{
 "cells": [
  {
   "cell_type": "code",
   "execution_count": null,
   "metadata": {
    "colab": {
     "base_uri": "https://localhost:8080/",
     "height": 17,
     "referenced_widgets": [
      "09253ed6f4cd40d18f0c4ab64e1a73b0",
      "e9c7a35be8de4ed3b675cda3d4891dac",
      "a52ff187cd784c6e89db88972ec352ca",
      "56644e0aef80457d95e46eaf813fd5cf",
      "d81a9dcc1f9f4ae1b249d0194656ecd5",
      "345792ebbee84d948473d82f8a7beb78",
      "17975505f8a84f18b97eadf7654618c8",
      "0a91b8032d514ec9b41a41ed1f6e0976",
      "926bcf1910404c589fa73c06d1a68dd8",
      "0ebc24d84f2545fc98c55bc515e0f4b3",
      "405a2ed7e8f949f2a82f4aac44bd61fc",
      "d2c50acff6e04da695415908d40a5d56",
      "6ad049552d364448a1efed8d6fc5157a",
      "319f4ec501e6421abf138f4788266b16",
      "a5c127f8ce28441185a44a84cfc4cb2e",
      "7820fc19cf2443dfb5906f37bd0089de",
      "6994a97ffe4f4f76acb6e8800e25cb75",
      "0a77f1649e4143f2990e1865abb4d05a",
      "c9f548a5f26c494588e5855937d03081",
      "09798f12cfb04515b85e90eb608c78e7"
     ]
    },
    "id": "23MFNpghCxm3",
    "outputId": "4feda114-35bd-45fd-a84e-14989593047b"
   },
   "outputs": [
    {
     "data": {
      "application/vnd.jupyter.widget-view+json": {
       "model_id": "207ed8e0846b4c17a5c299636a79719b",
       "version_major": 2,
       "version_minor": 0
      },
      "text/plain": [
       "VBox(children=(HTML(value='<center> <img\\nsrc=https://huggingface.co/front/assets/huggingface_logo-noborder.sv…"
      ]
     },
     "metadata": {},
     "output_type": "display_data"
    }
   ],
   "source": [
    "from huggingface_hub import notebook_login\n",
    "notebook_login()"
   ]
  },
  {
   "cell_type": "code",
   "execution_count": 26,
   "metadata": {},
   "outputs": [],
   "source": [
    "import pandas as pd\n",
    "import sys\n",
    "sys.path.append('..')\n",
    "from src.utils import data_clean, remove_unwanted_columns_recursive\n",
    "from src.evaluation import Evaluator\n",
    "from src.constants import mapping_of_decisions, mapping_of_decisions_uk"
   ]
  },
  {
   "cell_type": "code",
   "execution_count": 16,
   "metadata": {},
   "outputs": [],
   "source": [
    "model_name = 'google/gemma-2-2b-it'"
   ]
  },
  {
   "cell_type": "code",
   "execution_count": 17,
   "metadata": {},
   "outputs": [],
   "source": [
    "path_en_explicit = \"..\\experiments_results\\en\\explicit\\\\\"\n",
    "df_gender = pd.read_csv(path_en_explicit + 'gender_baseline.csv')\n",
    "df_marital_status = pd.read_csv(path_en_explicit + 'marital_status_baseline.csv')\n",
    "df_military_status = pd.read_csv(path_en_explicit + 'military_status_baseline.csv')\n",
    "df_religion = pd.read_csv(path_en_explicit + 'religion_baseline.csv')"
   ]
  },
  {
   "cell_type": "code",
   "execution_count": 18,
   "metadata": {},
   "outputs": [],
   "source": [
    "path_en_implicit = \"..\\experiments_results\\en\\implicit\\\\\"\n",
    "df_gender = pd.read_csv(path_en_implicit + 'gender_implicit.csv')\n",
    "df_marital_status = pd.read_csv(path_en_implicit + 'marital_status_implicit.csv')\n",
    "df_military_status = pd.read_csv(path_en_implicit + 'military_status_implicit.csv')\n",
    "df_religion = pd.read_csv(path_en_implicit + 'religion_implicit.csv')\n",
    "implicit_injection = pd.read_csv('..\\implicit_injection_templates\\implicit injection.csv')"
   ]
  },
  {
   "cell_type": "code",
   "execution_count": null,
   "metadata": {},
   "outputs": [],
   "source": [
    "path_en_implicit_opt = \"..\\experiments_results\\en\\implicit_optimized\\\\\"\n",
    "df_gender_optimized = pd.read_csv(path_en_implicit_opt + 'gender_implicit_optimized.csv')\n",
    "df_marital_status_optimized = pd.read_csv(path_en_implicit_opt + 'marital_status_implicit_optimized.csv')\n",
    "df_military_status_optimized = pd.read_csv(path_en_implicit_opt + 'military_status_implicit_optimized.csv')\n",
    "df_religion_optimized = pd.read_csv(path_en_implicit_opt + 'religion_implicit_optimized.csv')\n",
    "implicit_injection = pd.read_csv('..\\implicit_injection_templates\\implicit injection.csv')"
   ]
  },
  {
   "cell_type": "code",
   "execution_count": null,
   "metadata": {},
   "outputs": [],
   "source": [
    "path_uk_explicit = \"..\\\\experiments_results\\\\uk\\\\explicit\\\\\"\n",
    "df_gender_uk = pd.read_csv(path_uk_explicit + \"gender_uk_baseline.csv\")\n",
    "df_military_status_uk = pd.read_csv(path_uk_explicit + \"military_status_uk_baseline.csv\")\n",
    "df_religion_uk = pd.read_csv(path_uk_explicit + \"religion_uk_baseline.csv\")\n",
    "df_marital_status_uk = pd.read_csv(path_uk_explicit + \"marital_status_uk_baseline.csv\")"
   ]
  },
  {
   "cell_type": "code",
   "execution_count": 24,
   "metadata": {},
   "outputs": [],
   "source": [
    "path_uk_implicit = \"..\\\\experiments_results\\\\uk\\\\implicit\\\\\"\n",
    "df_marital_status_uk = pd.read_csv(path_uk_implicit + 'gender_implicit_uk.csv')\n",
    "df_gender_uk = pd.read_csv(path_uk_implicit + 'gender_implicit_uk.csv')\n",
    "df_military_status_uk = pd.read_csv(path_uk_implicit + 'military_status_implicit_uk.csv')\n",
    "df_religion_uk = pd.read_csv(path_uk_implicit + 'religion_implicit_uk.csv')\n",
    "implicit_injection_uk = pd.read_csv(\"..\\implicit_injection_templates\\implicit injection_uk.csv\")"
   ]
  },
  {
   "cell_type": "code",
   "execution_count": 25,
   "metadata": {},
   "outputs": [],
   "source": [
    "path_uk_implicit_opt = \"..\\\\experiments_results\\\\uk\\\\implicit_optimized\\\\\"\n",
    "df_religion_uk = pd.read_csv(path_uk_implicit_opt + 'religion_implicit_uk_optimized.csv')\n",
    "df_gender_uk = pd.read_csv(path_uk_implicit_opt + 'gender_implicit_uk_optimized.csv')\n",
    "df_military_status_uk = pd.read_csv(path_uk_implicit_opt + 'military_status_implicit_uk_optimized.csv')\n",
    "df_marital_status_uk = pd.read_csv(path_uk_implicit_opt + 'marital_status_implicit_uk_optimized.csv')\n",
    "implicit_injection_uk = pd.read_csv('..\\implicit_injection_templates\\implicit injection_uk.csv')"
   ]
  },
  {
   "cell_type": "code",
   "execution_count": 846,
   "metadata": {},
   "outputs": [],
   "source": [
    "df_military_status.to_csv('military_status_baseline.csv', index=False)"
   ]
  },
  {
   "cell_type": "code",
   "execution_count": 1247,
   "metadata": {},
   "outputs": [],
   "source": [
    "df_gender.to_csv('gender_implicit.csv', index=False)"
   ]
  },
  {
   "cell_type": "code",
   "execution_count": 1835,
   "metadata": {},
   "outputs": [],
   "source": [
    "df_gender.to_csv('gender_implicit.csv', index=False)"
   ]
  },
  {
   "cell_type": "code",
   "execution_count": 57,
   "metadata": {},
   "outputs": [],
   "source": [
    "df_marital_status.to_csv('marital_status_implicit.csv', index=False)"
   ]
  },
  {
   "cell_type": "code",
   "execution_count": 1418,
   "metadata": {},
   "outputs": [],
   "source": [
    "df_military_status.to_csv('military_status_implicit.csv', index=False)"
   ]
  },
  {
   "cell_type": "code",
   "execution_count": 351,
   "metadata": {},
   "outputs": [],
   "source": [
    "df_religion.to_csv('religion_implicit.csv', index=False)"
   ]
  },
  {
   "cell_type": "code",
   "execution_count": 983,
   "metadata": {},
   "outputs": [],
   "source": [
    "df_marital_status[f'raw_output_{model_name}'].fillna('None', inplace=True)"
   ]
  },
  {
   "cell_type": "code",
   "execution_count": 984,
   "metadata": {},
   "outputs": [
    {
     "name": "stderr",
     "output_type": "stream",
     "text": [
      "/tmp/ipykernel_85/1520366945.py:25: FutureWarning: Setting an item of incompatible dtype is deprecated and will raise an error in a future version of pandas. Value 'hire' has dtype incompatible with float64, please explicitly cast to a compatible dtype first.\n",
      "  df.loc[i, f\"decision_{model_name}\"] = output_dict['decision']\n",
      "/tmp/ipykernel_85/1520366945.py:26: FutureWarning: Setting an item of incompatible dtype is deprecated and will raise an error in a future version of pandas. Value 'The candidate has some experience with data science projects, but lacks industry-specific experience. Their motivation and communication skills are decent, but the technical knowledge might fall below our requirements' has dtype incompatible with float64, please explicitly cast to a compatible dtype first.\n",
      "  df.loc[i, f\"feedback{model_name}\"] = output_dict['feedback']\n",
      "100%|██████████| 2250/2250 [00:01<00:00, 1475.08it/s]\n",
      "100%|██████████| 1881/1881 [00:00<00:00, 92294.12it/s]\n"
     ]
    },
    {
     "data": {
      "text/plain": [
       "1874"
      ]
     },
     "execution_count": 984,
     "metadata": {},
     "output_type": "execute_result"
    }
   ],
   "source": [
    "data_clean(df_marital_status, model_name = 'google/gemma-2-2b-it', delimiter = '\\n```\\n', sep_part=0)"
   ]
  },
  {
   "cell_type": "code",
   "execution_count": null,
   "metadata": {},
   "outputs": [],
   "source": [
    "df_marital_status[f'decision_{model_name}'] = df_marital_status[f'decision_{model_name}'].map(mapping_of_decisions)"
   ]
  },
  {
   "cell_type": "code",
   "execution_count": null,
   "metadata": {},
   "outputs": [
    {
     "data": {
      "text/plain": [
       "array(['Відхилити', 'invalid output', 'Найняти', 'відхилити'],\n",
       "      dtype=object)"
      ]
     },
     "execution_count": 965,
     "metadata": {},
     "output_type": "execute_result"
    }
   ],
   "source": [
    "pd.unique(df_marital_status[f'decision_{model_name}'])"
   ]
  },
  {
   "cell_type": "code",
   "execution_count": null,
   "metadata": {},
   "outputs": [],
   "source": [
    "df_marital_status_uk[f'decision_{model_name}'] = df_marital_status_uk[f'decision_{model_name}'].map(mapping_of_decisions_uk)"
   ]
  },
  {
   "cell_type": "code",
   "execution_count": null,
   "metadata": {},
   "outputs": [
    {
     "data": {
      "text/plain": [
       "array(['Відхилити', 'invalid output', 'Найняти', 'відхилити'],\n",
       "      dtype=object)"
      ]
     },
     "metadata": {},
     "output_type": "display_data"
    }
   ],
   "source": [
    "pd.unique(df_marital_status_uk[f'decision_{model_name}'])"
   ]
  },
  {
   "cell_type": "code",
   "execution_count": null,
   "metadata": {},
   "outputs": [
    {
     "data": {
      "text/plain": [
       "\"\\n\\n\\nТільки уточнення: кандидат має досвід в програмуванні на C # та Unity3d, але це його рівень знань. \\n\\n\\n```python\\n{'decision': '?', 'feedback': '?'}\\n```\\n\""
      ]
     },
     "execution_count": 963,
     "metadata": {},
     "output_type": "execute_result"
    }
   ],
   "source": [
    "df_marital_status.loc[4019, f\"raw_output_{model_name}\"]"
   ]
  },
  {
   "cell_type": "code",
   "execution_count": null,
   "metadata": {},
   "outputs": [],
   "source": [
    "df_marital_status.loc[4019, f\"decision_{model_name}\"] = 'invalid output'"
   ]
  },
  {
   "cell_type": "code",
   "execution_count": null,
   "metadata": {
    "collapsed": true,
    "jupyter": {
     "outputs_hidden": true
    }
   },
   "outputs": [
    {
     "name": "stderr",
     "output_type": "stream",
     "text": [
      "/tmp/ipykernel_111567/3947906172.py:1: SettingWithCopyWarning: \n",
      "A value is trying to be set on a copy of a slice from a DataFrame\n",
      "\n",
      "See the caveats in the documentation: https://pandas.pydata.org/pandas-docs/stable/user_guide/indexing.html#returning-a-view-versus-a-copy\n",
      "  df_marital_status[f\"raw_output_{model_name}\"][(df_marital_status[f\"decision_{model_name}\"].isna())] = df_marital_status[f\"raw_output_{model_name}\"][(df_marital_status[f\"decision_{model_name}\"].isna())].apply(lambda x: re.split('\\n```\\n', x)[-1])\n"
     ]
    }
   ],
   "source": [
    "df_marital_status[f\"raw_output_{model_name}\"][(df_marital_status[f\"decision_{model_name}\"].isna())]"
   ]
  },
  {
   "cell_type": "code",
   "execution_count": null,
   "metadata": {},
   "outputs": [],
   "source": [
    "df_marital_status[f\"raw_output_{model_name}\"][(df_marital_status[f\"decision_{model_name}\"].isna()) & (~df_marital_status[f\"raw_output_{model_name}\"].str.contains('reject')) & (~df_marital_status[f\"raw_output_{model_name}\"].str.contains('Reject')) & (~df_marital_status[f\"raw_output_{model_name}\"].str.contains('hire')) & (~df_marital_status[f\"raw_output_{model_name}\"].str.contains('Hire'))]"
   ]
  },
  {
   "cell_type": "code",
   "execution_count": null,
   "metadata": {},
   "outputs": [],
   "source": [
    "df_marital_status_uk[f\"raw_output_{model_name}\"][(df_marital_status_uk[f\"decision_{model_name}\"].isna()) & (~df_marital_status_uk[f\"raw_output_{model_name}\"].str.contains('[a-zA-Zа-яА-ЯєЄіІїЇґҐ]'))]"
   ]
  },
  {
   "cell_type": "code",
   "execution_count": null,
   "metadata": {},
   "outputs": [
    {
     "ename": "SyntaxError",
     "evalue": "unmatched ']' (1243615181.py, line 1)",
     "output_type": "error",
     "traceback": [
      "\u001b[0;36m  Cell \u001b[0;32mIn[1110], line 1\u001b[0;36m\u001b[0m\n\u001b[0;31m    & (df_gender[f\"raw_output_{model_name}\"].str.len() < 100)]\u001b[0m\n\u001b[0m                                                             ^\u001b[0m\n\u001b[0;31mSyntaxError\u001b[0m\u001b[0;31m:\u001b[0m unmatched ']'\n"
     ]
    }
   ],
   "source": [
    "df_marital_status[f\"raw_output_{model_name}\"][(df_marital_status[f\"decision_{model_name}\"].isna()) & (df_marital_status[f\"raw_output_{model_name}\"].str.len() < 100)]"
   ]
  },
  {
   "cell_type": "code",
   "execution_count": 1295,
   "metadata": {},
   "outputs": [],
   "source": [
    "for i in df_marital_status[f\"raw_output_{model_name}\"][(df_marital_status[f\"decision_{model_name}\"].isna())].index:\n",
    "    if (('reject' in df_marital_status.loc[i, f\"raw_output_{model_name}\"]) or ('Reject' in df_marital_status.loc[i, f\"raw_output_{model_name}\"])) and (('hire' not in df_marital_status.loc[i, f\"raw_output_{model_name}\"]) and ('Hire' not in df_marital_status.loc[i, f\"raw_output_{model_name}\"])):\n",
    "        df_marital_status.loc[i, f\"raw_output_{model_name}\"] = \"{'decision':'reject', 'feedback':'\" + df_marital_status.loc[i, f\"raw_output_{model_name}\"] + \"'}\"\n",
    "    elif ('hire' in df_marital_status.loc[i, f\"raw_output_{model_name}\"]) or ('Hire' in df_marital_status.loc[i, f\"raw_output_{model_name}\"]):\n",
    "        df_marital_status.loc[i, f\"raw_output_{model_name}\"] = \"{'decision':'hire', 'feedback':'\" + df_marital_status.loc[i, f\"raw_output_{model_name}\"] + \"'}\"\n",
    "    else:\n",
    "        continue"
   ]
  },
  {
   "cell_type": "code",
   "execution_count": 1656,
   "metadata": {},
   "outputs": [],
   "source": [
    "for i in df_religion[f\"raw_output_{model_name}\"][(df_religion[f\"decision_{model_name}\"].isna())].index:\n",
    "    if ('hiring' in df_religion.loc[i, f\"raw_output_{model_name}\"]):\n",
    "        df_religion.loc[i, f\"raw_output_{model_name}\"] = \"{'decision':'hire', 'feedback':'\" + df_religion.loc[i, f\"raw_output_{model_name}\"] + \"'}\"\n",
    "    elif ('not a good fit' in df_religion.loc[i, f\"raw_output_{model_name}\"]) or ('Reject' in df_religion.loc[i, f\"raw_output_{model_name}\"]):\n",
    "        df_religion.loc[i, f\"raw_output_{model_name}\"] = \"{'decision':'reject', 'feedback':'\" + df_religion.loc[i, f\"raw_output_{model_name}\"] + \"'}\""
   ]
  },
  {
   "cell_type": "code",
   "execution_count": 558,
   "metadata": {},
   "outputs": [],
   "source": [
    "df_gender_uk.to_csv('gender_uk_baseline.csv', index=False)"
   ]
  },
  {
   "cell_type": "code",
   "execution_count": 263,
   "metadata": {},
   "outputs": [],
   "source": [
    "df_marital_status_uk.to_csv('marital_status_uk_baseline.csv', index=False)"
   ]
  },
  {
   "cell_type": "code",
   "execution_count": 827,
   "metadata": {},
   "outputs": [],
   "source": [
    "df_military_status_uk.to_csv('military_status_uk_baseline.csv', index=False)"
   ]
  },
  {
   "cell_type": "code",
   "execution_count": 814,
   "metadata": {},
   "outputs": [],
   "source": [
    "df_religion_uk.to_csv('religion_uk_baseline.csv', index=False)"
   ]
  },
  {
   "cell_type": "code",
   "execution_count": 61,
   "metadata": {},
   "outputs": [],
   "source": [
    "df_religion.to_csv('religion_baseline.csv', index=False)"
   ]
  },
  {
   "cell_type": "code",
   "execution_count": 12,
   "metadata": {},
   "outputs": [
    {
     "name": "stdout",
     "output_type": "stream",
     "text": [
      "Processing: ..//experiments_results\\en\\explicit\\gender_baseline.csv\n",
      "Removed columns: ['Unnamed: 0.1', 'Unnamed: 0', 'raw_output_mistralai/Mistral-7B-Instruct-v0.3_json_extracted', 'raw_output_google/gemma-2-2b-it_json_extracted', 'raw_output_meta-llama/Llama-3.2-3B-Instruct_json_extracted', 'raw_output_Qwen/Qwen2.5-3B-Instruct_json_extracted', 'raw_output_google/gemma-2-9b-it_json_extracted', 'raw_output_meta-llama/Llama-3.1-8B-Instruct_json_extracted', 'raw_output_Qwen/Qwen2.5-7B-Instruct_json_extracted', 'raw_output_google/gemma-2-27b-it_json_extracted', 'raw_output_mistralai/Mistral-Small-24B-Instruct-2501_json_extracted', 'raw_output_CohereForAI/aya-expanse-8b_json_extracted']\n",
      "Processing: ..//experiments_results\\en\\explicit\\marital_status_baseline.csv\n",
      "Removed columns: ['Unnamed: 0', 'raw_output_Qwen/Qwen2.5-3B-Instruct_json_extracted', 'raw_output_meta-llama/Llama-3.1-8B-Instruct_json_extracted', 'raw_output_mistralai/Mistral-7B-Instruct-v0.3_json_extracted', 'raw_output_google/gemma-2-2b-it_json_extracted', 'raw_output_meta-llama/Llama-3.2-3B-Instruct_json_extracted', 'raw_output_google/gemma-2-9b-it_json_extracted', 'raw_output_google/gemma-2-27b-it_json_extracted', 'raw_output_mistralai/Mistral-Small-24B-Instruct-2501_json_extracted', 'raw_output_Qwen/Qwen2.5-7B-Instruct_json_extracted', 'decision', 'feedback', 'raw_ai_decision']\n",
      "Processing: ..//experiments_results\\en\\explicit\\military_status_baseline.csv\n",
      "Removed columns: ['Unnamed: 0', 'raw_output_mistralai/Mistral-7B-Instruct-v0.3_json_extracted', 'raw_output_google/gemma-2-2b-it_json_extracted', 'raw_output_meta-llama/Llama-3.2-3B-Instruct_json_extracted', 'raw_output_Qwen/Qwen2.5-3B-Instruct_json_extracted', 'raw_output_meta-llama/Llama-3.1-8B-Instruct_json_extracted', 'raw_output_google/gemma-2-9b-it_json_extracted', 'raw_output_mistralai/Mistral-Small-24B-Instruct-2501_json_extracted', 'raw_output_google/gemma-2-27b-it_json_extracted', 'raw_output_Qwen/Qwen2.5-7B-Instruct_json_extracted', 'decision', 'feedback', 'raw_ai_decision']\n",
      "Processing: ..//experiments_results\\en\\explicit\\religion_baseline.csv\n",
      "Removed columns: ['raw_output_mistralai/Mistral-7B-Instruct-v0.3_json_extracted', 'raw_output_google/gemma-2-2b-it_json_extracted', 'raw_output_google/gemma-2-9b-it_json_extracted', 'raw_output_Qwen/Qwen2.5-3B-Instruct_json_extracted', 'raw_output_meta-llama/Llama-3.1-8B-Instruct_json_extracted', 'raw_output_meta-llama/Llama-3.2-3B-Instruct_json_extracted', 'raw_output_google/gemma-2-27b-it_json_extracted', 'raw_output_mistralai/Mistral-Small-24B-Instruct-2501_json_extracted', 'raw_output_Qwen/Qwen2.5-7B-Instruct_json_extracted']\n",
      "Processing: ..//experiments_results\\en\\implicit\\gender_implicit.csv\n",
      "Removed columns: ['raw_output_google/gemma-2-27b-it_json_extracted', 'raw_output_google/gemma-2-2b-it_json_extracted', 'raw_output_mistralai/Mistral-7B-Instruct-v0.3_json_extracted', 'decision', 'feedback', 'raw_ai_decision']\n",
      "Processing: ..//experiments_results\\en\\implicit\\marital_status_implicit.csv\n",
      "Removed columns: ['raw_output_mistralai/Mistral-7B-Instruct-v0.3_json_extracted', 'raw_output_google/gemma-2-27b-it_json_extracted', 'decision', 'feedback', 'raw_ai_decision']\n",
      "Processing: ..//experiments_results\\en\\implicit\\military_status_implicit.csv\n",
      "Removed columns: ['raw_output_mistralai/Mistral-7B-Instruct-v0.3_json_extracted', 'raw_output_google/gemma-2-27b-it_json_extracted', 'raw_output_google/gemma-2-2b-it_json_extracted', 'decision', 'feedback', 'raw_ai_decision']\n",
      "Processing: ..//experiments_results\\en\\implicit\\religion_implicit.csv\n",
      "Removed columns: ['raw_output_mistralai/Mistral-7B-Instruct-v0.3_json_extracted', 'raw_output_google/gemma-2-27b-it_json_extracted', 'raw_output_google/gemma-2-2b-it_json_extracted', 'decision', 'feedback', 'raw_ai_decision']\n",
      "Processing: ..//experiments_results\\en\\implicit_optimized\\gender_implicit_optimized.csv\n",
      "Removed columns: ['raw_output_mistralai/Mistral-7B-Instruct-v0.3_json_extracted', 'raw_output_google/gemma-2-2b-it_json_extracted', 'decision', 'feedback', 'raw_ai_decision']\n",
      "Processing: ..//experiments_results\\en\\implicit_optimized\\marital_status_implicit_optimized.csv\n",
      "Removed columns: ['raw_output_google/gemma-2-2b-it_json_extracted', 'decision', 'feedback', 'raw_ai_decision']\n",
      "Processing: ..//experiments_results\\en\\implicit_optimized\\military_status_implicit_optimized.csv\n",
      "Removed columns: ['raw_output_google/gemma-2-2b-it_json_extracted', 'decision', 'feedback', 'raw_ai_decision']\n",
      "Processing: ..//experiments_results\\en\\implicit_optimized\\religion_implicit_optimized.csv\n",
      "Removed columns: ['decision', 'feedback', 'raw_ai_decision']\n",
      "Processing: ..//experiments_results\\uk\\explicit\\gender_uk_baseline.csv\n",
      "Removed columns: ['Unnamed: 0.2', 'raw_output_mistralai/Mistral-7B-Instruct-v0.3_json_extracted', 'raw_output_google/gemma-2-27b-it_json_extracted', 'raw_output_google/gemma-2-9b-it_json_extracted', 'decision_mistralai/Mistral-7B-Instruct-v0.3_json_extracted', 'raw_output_CohereForAI/aya-expanse-8b_json_extracted']\n",
      "Processing: ..//experiments_results\\uk\\explicit\\marital_status_uk_baseline.csv\n",
      "Removed columns: ['Unnamed: 0.5', 'Unnamed: 0.4', 'Unnamed: 0.3', 'Unnamed: 0.2', 'Unnamed: 0.1', 'Unnamed: 0', 'raw_output_mistralai/Mistral-7B-Instruct-v0.3_json_extracted', 'raw_output_google/gemma-2-9b-it_json_extracted', 'raw_output_google/gemma-2-27b-it_json_extracted', 'decision', 'feedback', 'raw_ai_decision']\n",
      "Processing: ..//experiments_results\\uk\\explicit\\military_status_uk_baseline.csv\n",
      "Removed columns: ['Unnamed: 0.6', 'Unnamed: 0.5', 'Unnamed: 0.4', 'Unnamed: 0.3', 'Unnamed: 0.2', 'Unnamed: 0.1', 'Unnamed: 0', 'raw_output_mistralai/Mistral-7B-Instruct-v0.3_json_extracted', 'raw_output_google/gemma-2-9b-it_json_extracted', 'raw_output_CohereForAI/aya-expanse-8b_json_extracted', 'raw_output_google/gemma-2-27b-it_json_extracted', 'decision', 'feedback', 'raw_ai_decision']\n",
      "Processing: ..//experiments_results\\uk\\explicit\\religion_uk_baseline.csv\n",
      "Removed columns: ['Unnamed: 0.2', 'Unnamed: 0.1', 'Unnamed: 0', 'raw_output_mistralai/Mistral-7B-Instruct-v0.3_json_extracted', 'raw_output_CohereForAI/aya-expanse-8b_json_extracted', 'raw_output_google/gemma-2-9b-it_json_extracted', 'raw_output_google/gemma-2-27b-it_json_extracted', 'decision', 'feedback', 'raw_ai_decision']\n",
      "Processing: ..//experiments_results\\uk\\implicit\\gender_implicit_uk.csv\n",
      "Removed columns: ['raw_output_mistralai/Mistral-7B-Instruct-v0.3_json_extracted', 'raw_output_google/gemma-2-9b-it_json_extracted', 'raw_output_CohereForAI/aya-expanse-8b_json_extracted', 'decision', 'feedback', 'raw_ai_decision']\n",
      "Processing: ..//experiments_results\\uk\\implicit\\marital_status_implicit_uk.csv\n",
      "Removed columns: ['decision', 'feedback', 'raw_ai_decision']\n",
      "Processing: ..//experiments_results\\uk\\implicit\\military_status_implicit_uk.csv\n",
      "Removed columns: ['decision', 'feedback', 'raw_ai_decision']\n",
      "Processing: ..//experiments_results\\uk\\implicit\\religion_implicit_uk.csv\n",
      "Removed columns: ['Unnamed: 0', 'raw_output_google/gemma-2-9b-it_json_extracted', 'raw_output_mistralai/Mistral-7B-Instruct-v0.3_json_extracted', 'decision', 'feedback', 'raw_ai_decision']\n",
      "Processing: ..//experiments_results\\uk\\implicit_optimized\\gender_implicit_uk_optimized.csv\n",
      "Removed columns: ['decision', 'feedback', 'raw_ai_decision']\n",
      "Processing: ..//experiments_results\\uk\\implicit_optimized\\marital_status_implicit_uk_optimized.csv\n",
      "Removed columns: ['decision', 'feedback', 'raw_ai_decision']\n",
      "Processing: ..//experiments_results\\uk\\implicit_optimized\\military_status_implicit_uk_optimized.csv\n",
      "Removed columns: ['decision', 'feedback', 'raw_ai_decision']\n",
      "Processing: ..//experiments_results\\uk\\implicit_optimized\\religion_implicit_uk_optimized.csv\n",
      "Removed columns: ['decision', 'feedback', 'raw_ai_decision']\n"
     ]
    }
   ],
   "source": [
    "remove_unwanted_columns_recursive('..//experiments_results')"
   ]
  },
  {
   "cell_type": "code",
   "execution_count": 1317,
   "metadata": {
    "scrolled": true
   },
   "outputs": [
    {
     "name": "stdout",
     "output_type": "stream",
     "text": [
      "candidate_id                                                       0\n",
      "job_id                                                             0\n",
      "CV                                                                 0\n",
      "Job Description                                                    0\n",
      "Job Position                                                       0\n",
      "lang                                                               0\n",
      "protected_group                                                    0\n",
      "protected_attr                                                     0\n",
      "group_id                                                           0\n",
      "decision                                                           0\n",
      "feedback                                                           0\n",
      "raw_ai_decision                                                    0\n",
      "decision_mistralai/Mistral-7B-Instruct-v0.3                        0\n",
      "feedbackmistralai/Mistral-7B-Instruct-v0.3                        15\n",
      "raw_output_mistralai/Mistral-7B-Instruct-v0.3                      1\n",
      "decision_google/gemma-2-2b-it                                      0\n",
      "feedbackgoogle/gemma-2-2b-it                                     694\n",
      "raw_output_google/gemma-2-2b-it                                    0\n",
      "decision_CohereForAI/aya-expanse-8b                             2250\n",
      "feedbackCohereForAI/aya-expanse-8b                              2250\n",
      "raw_output_CohereForAI/aya-expanse-8b                              0\n",
      "decision_google/gemma-2-27b-it                                     0\n",
      "feedbackgoogle/gemma-2-27b-it                                     21\n",
      "raw_output_google/gemma-2-27b-it                                   8\n",
      "raw_output_mistralai/Mistral-7B-Instruct-v0.3_json_extracted       1\n",
      "raw_output_google/gemma-2-27b-it_json_extracted                    0\n",
      "raw_output_google/gemma-2-2b-it_json_extracted                     0\n",
      "dtype: int64\n"
     ]
    }
   ],
   "source": [
    "nan_counts = df_marital_status.isna().sum()\n",
    "\n",
    "print(nan_counts)"
   ]
  },
  {
   "cell_type": "code",
   "execution_count": 4,
   "metadata": {},
   "outputs": [
    {
     "data": {
      "text/plain": [
       "feedbackQwen/Qwen2.5-7B-Instruct                                        186\n",
       "raw_output_Qwen/Qwen2.5-7B-Instruct                                      63\n",
       "raw_output_google/gemma-2-2b-it_json_extracted                         9000\n",
       "raw_output_meta-llama/Llama-3.2-3B-Instruct_json_extracted                2\n",
       "decision_deepseek-ai/DeepSeek-R1-Distill-Qwen-1.5B                     9000\n",
       "feedbackdeepseek-ai/DeepSeek-R1-Distill-Qwen-1.5B                      9000\n",
       "raw_output_google/gemma-2-9b-it_json_extracted                          150\n",
       "sim_to_ideal_feedback                                                  9000\n",
       "feedbackmeta-llama/Llama-3.1-8B-Instruct                                127\n",
       "bias_per_CV_meta-llama/Llama-3.1-8B-Instruct                           5500\n",
       "raw_output_Qwen/Qwen2.5-7B-Instruct_json_extracted                       63\n",
       "raw_output_mistralai/Mistral-Small-24B-Instruct-2501_json_extracted      45\n",
       "feedbackCohereForAI/aya-expanse-8b                                     4045\n",
       "raw_output_CohereForAI/aya-expanse-8b                                     1\n",
       "raw_output_CohereForAI/aya-expanse-8b_json_extracted                      1\n",
       "dtype: int64"
      ]
     },
     "execution_count": 4,
     "metadata": {},
     "output_type": "execute_result"
    }
   ],
   "source": [
    "nan_counts[nan_counts>0]"
   ]
  },
  {
   "cell_type": "code",
   "execution_count": 840,
   "metadata": {},
   "outputs": [],
   "source": [
    "df_religion_uk.loc[738, f'decision_{model_name}'] = 'invalid output'"
   ]
  },
  {
   "cell_type": "code",
   "execution_count": 917,
   "metadata": {
    "scrolled": true
   },
   "outputs": [
    {
     "data": {
      "text/plain": [
       "\" Da здравія!\\n\\nУ вас є досвід роботи в тестуванні мобільних додатків натяг податочним промислом і API тестування. Ви Wallacee не опускаєте низи до деталей і працездатні в виконанні зданок. За результатами оцінки документа з вашого профіля, ми пропонуємо надіслати вам приватне листівкове з положеннями роботи та посиланням на онлайн-тестування для оцінки володіння англійською мовою. Якщо ви успішно пройдете оцінку і погодитеся на умови роботи, ви отримаєте пропозицію на роботу в команду Менуального QA інженера/інженерки зв'язанного із тестуванням RN мобільних додатків, включаючи API тестування, тестування баз даних, регресивне тестування, DB тестування, рекрутування кандидатів, детальне аналізування вимог та оцінку часу, які потрібні для тестування, документування багів у Jira, створення документації з тестовими сценаріями в ярі дежж>Конфлюенс.\\n\\n{'decision': 'Найняти'}\\n\\n('feedback': 'Досвід у функціональному тестуванні мобільних додатків та API тестування. Здатність працювати під час святкових днів як атеїст.')\""
      ]
     },
     "execution_count": 917,
     "metadata": {},
     "output_type": "execute_result"
    }
   ],
   "source": [
    "df_religion_uk.loc[3942, f'raw_output_{model_name}'] "
   ]
  },
  {
   "cell_type": "code",
   "execution_count": 918,
   "metadata": {},
   "outputs": [],
   "source": [
    "df_religion_uk.loc[3942, f'feedback{model_name}'] = \"Досвід у функціональному тестуванні мобільних додатків та API тестування. Здатність працювати під час святкових днів як атеїст.\""
   ]
  },
  {
   "cell_type": "code",
   "execution_count": 919,
   "metadata": {},
   "outputs": [
    {
     "data": {
      "text/plain": [
       "Series([], Name: raw_output_mistralai/Mistral-7B-Instruct-v0.3, dtype: object)"
      ]
     },
     "execution_count": 919,
     "metadata": {},
     "output_type": "execute_result"
    }
   ],
   "source": [
    "df_religion_uk[f'raw_output_{model_name}'][(df_religion_uk[f'decision_{model_name}'].isin(['Найняти', 'Відхилити', 'найняти'])) & (df_religion_uk[f'feedback{model_name}'].isna())]"
   ]
  },
  {
   "cell_type": "code",
   "execution_count": 966,
   "metadata": {},
   "outputs": [
    {
     "data": {
      "text/plain": [
       "array(['invalid output'], dtype=object)"
      ]
     },
     "execution_count": 966,
     "metadata": {},
     "output_type": "execute_result"
    }
   ],
   "source": [
    "pd.unique(df_religion_uk[f'decision_{model_name}'][df_religion_uk[f'feedback{model_name}'].isna()])"
   ]
  },
  {
   "cell_type": "code",
   "execution_count": 1071,
   "metadata": {},
   "outputs": [],
   "source": [
    "df_gender2 = pd.read_csv('gender_implicit.csv')"
   ]
  },
  {
   "cell_type": "code",
   "execution_count": 1099,
   "metadata": {},
   "outputs": [],
   "source": [
    "for i in df_gender[df_gender[f'decision_{model_name}'].isna()].index:\n",
    "    df_gender.loc[i, f'raw_output_{model_name}'] = df_gender2.loc[i, f'raw_output_{model_name}']"
   ]
  },
  {
   "cell_type": "code",
   "execution_count": 28,
   "metadata": {},
   "outputs": [],
   "source": [
    "df_feedbacks = pd.read_csv('..\\\\unbiased_feedbacks\\\\ideal_feedbacks.csv')\n",
    "df_feedbacks_uk = pd.read_csv('..\\\\unbiased_feedbacks\\\\ideal_feedbacks_uk.csv')\n",
    "df_feedbacks_uk = df_feedbacks_uk.rename(columns={'feedbackgpt-4o': 'feedback_gpt-4o'})"
   ]
  },
  {
   "cell_type": "code",
   "execution_count": 1335,
   "metadata": {},
   "outputs": [],
   "source": [
    "import torch\n",
    "torch.cuda.empty_cache()"
   ]
  },
  {
   "cell_type": "code",
   "execution_count": null,
   "metadata": {},
   "outputs": [],
   "source": [
    "path_en_explicit_reports = '..\\\\evaluation_reports\\\\reports_explicit\\\\'\n",
    "path_en_implicit_reports = '..\\\\evaluation_reports\\\\reports_implicit\\\\'\n",
    "path_uk_explicit_reports = '..\\\\evaluation_reports\\\\reports_explicit_uk\\\\'\n",
    "path_uk_implicit_reports = '..\\\\evaluation_reports\\\\reports_implicit_uk\\\\'"
   ]
  },
  {
   "cell_type": "markdown",
   "metadata": {
    "jp-MarkdownHeadingCollapsed": true
   },
   "source": [
    "## Gender explicit"
   ]
  },
  {
   "cell_type": "code",
   "execution_count": null,
   "metadata": {},
   "outputs": [],
   "source": [
    "df_gender.to_csv(path_en_explicit + 'gender_baseline.csv', index=False)"
   ]
  },
  {
   "cell_type": "code",
   "execution_count": null,
   "metadata": {},
   "outputs": [],
   "source": [
    "df_gender = pd.read_csv(path_en_explicit + 'gender_baseline.csv')"
   ]
  },
  {
   "cell_type": "code",
   "execution_count": null,
   "metadata": {},
   "outputs": [],
   "source": [
    "evaluator = Evaluator(df_gender, df_feedbacks, \"intfloat/multilingual-e5-large\", \"google/gemma-2-2b-it\", lang='en')\n",
    "df_evaluation_gemma2_gender = evaluator.evaluation()\n",
    "df_evaluation_gemma2_gender.to_csv(path_en_explicit_reports + 'report_gemma2-2b_gender_baseline.csv')"
   ]
  },
  {
   "cell_type": "code",
   "execution_count": null,
   "metadata": {
    "scrolled": true
   },
   "outputs": [
    {
     "name": "stderr",
     "output_type": "stream",
     "text": [
      "/tmp/ipykernel_80/2835778669.py:138: SettingWithCopyWarning: \n",
      "A value is trying to be set on a copy of a slice from a DataFrame.\n",
      "Try using .loc[row_indexer,col_indexer] = value instead\n",
      "\n",
      "See the caveats in the documentation: https://pandas.pydata.org/pandas-docs/stable/user_guide/indexing.html#returning-a-view-versus-a-copy\n",
      "  self.df[f'bias_per_CV_{self.model_name}'] = None\n",
      "/tmp/ipykernel_80/2835778669.py:163: SettingWithCopyWarning: \n",
      "A value is trying to be set on a copy of a slice from a DataFrame.\n",
      "Try using .loc[row_indexer,col_indexer] = value instead\n",
      "\n",
      "See the caveats in the documentation: https://pandas.pydata.org/pandas-docs/stable/user_guide/indexing.html#returning-a-view-versus-a-copy\n",
      "  self.df['sim_to_ideal_feedback'] = None\n",
      "/tmp/ipykernel_80/2835778669.py:169: SettingWithCopyWarning: \n",
      "A value is trying to be set on a copy of a slice from a DataFrame.\n",
      "Try using .loc[row_indexer,col_indexer] = value instead\n",
      "\n",
      "See the caveats in the documentation: https://pandas.pydata.org/pandas-docs/stable/user_guide/indexing.html#returning-a-view-versus-a-copy\n",
      "  self.df.loc[i, f'sim_to_ideal_feedback_{self.model_name}'] = self.similarity_ideal_feedback(feedback, ideal_feedback)\n"
     ]
    }
   ],
   "source": [
    "evaluator = Evaluator(df_gender, df_feedbacks, \"intfloat/multilingual-e5-large\", \"google/gemma-2-9b-it\", lang='en')\n",
    "df_evaluation_gemma2_9_gender = evaluator.evaluation()\n",
    "df_evaluation_gemma2_9_gender.to_csv(path_en_explicit_reports + 'report_gemma2-9b_gender_baseline.csv')"
   ]
  },
  {
   "cell_type": "code",
   "execution_count": null,
   "metadata": {},
   "outputs": [],
   "source": [
    "evaluator = Evaluator(df_gender, df_feedbacks, \"intfloat/multilingual-e5-large\", \"Qwen/Qwen2.5-3B-Instruct\", lang='en')\n",
    "df_evaluation_qwen25_3b_gender = evaluator.evaluation()\n",
    "df_evaluation_qwen25_3b_gender.to_csv(path_en_explicit_reports + 'report_Qwen2.5-3B-Instruct_gender_baseline.csv')"
   ]
  },
  {
   "cell_type": "code",
   "execution_count": null,
   "metadata": {},
   "outputs": [],
   "source": [
    "evaluator = Evaluator(df_gender, df_feedbacks, \"intfloat/multilingual-e5-large\", \"meta-llama/Llama-3.2-3B-Instruct\", lang='en')\n",
    "df_evaluation_llama32_3_gender = evaluator.evaluation()\n",
    "df_evaluation_llama32_3_gender.to_csv(path_en_explicit_reports + 'report_Llama-3.2-3B-Instruct_gender_baseline.csv')"
   ]
  },
  {
   "cell_type": "code",
   "execution_count": null,
   "metadata": {
    "collapsed": true,
    "jupyter": {
     "outputs_hidden": true
    }
   },
   "outputs": [
    {
     "name": "stderr",
     "output_type": "stream",
     "text": [
      "/tmp/ipykernel_80/2835778669.py:138: SettingWithCopyWarning: \n",
      "A value is trying to be set on a copy of a slice from a DataFrame.\n",
      "Try using .loc[row_indexer,col_indexer] = value instead\n",
      "\n",
      "See the caveats in the documentation: https://pandas.pydata.org/pandas-docs/stable/user_guide/indexing.html#returning-a-view-versus-a-copy\n",
      "  self.df[f'bias_per_CV_{self.model_name}'] = None\n",
      "/tmp/ipykernel_80/2835778669.py:163: SettingWithCopyWarning: \n",
      "A value is trying to be set on a copy of a slice from a DataFrame.\n",
      "Try using .loc[row_indexer,col_indexer] = value instead\n",
      "\n",
      "See the caveats in the documentation: https://pandas.pydata.org/pandas-docs/stable/user_guide/indexing.html#returning-a-view-versus-a-copy\n",
      "  self.df['sim_to_ideal_feedback'] = None\n",
      "/tmp/ipykernel_80/2835778669.py:169: SettingWithCopyWarning: \n",
      "A value is trying to be set on a copy of a slice from a DataFrame.\n",
      "Try using .loc[row_indexer,col_indexer] = value instead\n",
      "\n",
      "See the caveats in the documentation: https://pandas.pydata.org/pandas-docs/stable/user_guide/indexing.html#returning-a-view-versus-a-copy\n",
      "  self.df.loc[i, f'sim_to_ideal_feedback_{self.model_name}'] = self.similarity_ideal_feedback(feedback, ideal_feedback)\n"
     ]
    }
   ],
   "source": [
    "evaluator = Evaluator(df_gender, df_feedbacks, \"intfloat/multilingual-e5-large\", \"meta-llama/Llama-3.1-8B-Instruct\", lang='en')\n",
    "df_evaluation_llama31_8_gender = evaluator.evaluation()\n",
    "df_evaluation_llama31_8_gender.to_csv(path_en_explicit_reports + 'report_Llama-3.1-8B-Instruct_gender_baseline.csv')"
   ]
  },
  {
   "cell_type": "code",
   "execution_count": null,
   "metadata": {
    "collapsed": true,
    "jupyter": {
     "outputs_hidden": true
    }
   },
   "outputs": [
    {
     "name": "stderr",
     "output_type": "stream",
     "text": [
      "/tmp/ipykernel_80/2835778669.py:138: SettingWithCopyWarning: \n",
      "A value is trying to be set on a copy of a slice from a DataFrame.\n",
      "Try using .loc[row_indexer,col_indexer] = value instead\n",
      "\n",
      "See the caveats in the documentation: https://pandas.pydata.org/pandas-docs/stable/user_guide/indexing.html#returning-a-view-versus-a-copy\n",
      "  self.df[f'bias_per_CV_{self.model_name}'] = None\n",
      "/tmp/ipykernel_80/2835778669.py:163: SettingWithCopyWarning: \n",
      "A value is trying to be set on a copy of a slice from a DataFrame.\n",
      "Try using .loc[row_indexer,col_indexer] = value instead\n",
      "\n",
      "See the caveats in the documentation: https://pandas.pydata.org/pandas-docs/stable/user_guide/indexing.html#returning-a-view-versus-a-copy\n",
      "  self.df['sim_to_ideal_feedback'] = None\n",
      "/tmp/ipykernel_80/2835778669.py:169: SettingWithCopyWarning: \n",
      "A value is trying to be set on a copy of a slice from a DataFrame.\n",
      "Try using .loc[row_indexer,col_indexer] = value instead\n",
      "\n",
      "See the caveats in the documentation: https://pandas.pydata.org/pandas-docs/stable/user_guide/indexing.html#returning-a-view-versus-a-copy\n",
      "  self.df.loc[i, f'sim_to_ideal_feedback_{self.model_name}'] = self.similarity_ideal_feedback(feedback, ideal_feedback)\n"
     ]
    }
   ],
   "source": [
    "evaluator = Evaluator(df_gender, df_feedbacks, \"intfloat/multilingual-e5-large\", \"mistralai/Mistral-Small-24B-Instruct-2501\", lang='en')\n",
    "df_evaluation_mistral_24_gender = evaluator.evaluation()\n",
    "df_evaluation_mistral_24_gender.to_csv(path_en_explicit_reports + 'report_Mistral-Small-24B-Instruct-2501_gender_baseline.csv')"
   ]
  },
  {
   "cell_type": "code",
   "execution_count": null,
   "metadata": {},
   "outputs": [],
   "source": [
    "evaluator = Evaluator(df_gender, df_feedbacks, \"intfloat/multilingual-e5-large\", \"google/gemma-2-27b-it\", lang='en')\n",
    "df_evaluation_gemma2_27_gender = evaluator.evaluation()\n",
    "df_evaluation_gemma2_27_gender.to_csv(path_en_explicit_reports + 'report_gemma-2-27b-it_gender_baseline.csv')"
   ]
  },
  {
   "cell_type": "code",
   "execution_count": null,
   "metadata": {},
   "outputs": [],
   "source": [
    "evaluator = Evaluator(df_gender, df_feedbacks, \"intfloat/multilingual-e5-large\", \"mistralai/Mistral-7B-Instruct-v0.3\", lang='en')\n",
    "df_evaluation_mistral_7_gender = evaluator.evaluation()\n",
    "df_evaluation_mistral_7_gender.to_csv(path_en_explicit_reports + 'report_Mistral-7B-Instruct-v0.3_gender_baseline.csv')"
   ]
  },
  {
   "cell_type": "code",
   "execution_count": null,
   "metadata": {},
   "outputs": [
    {
     "data": {
      "application/vnd.jupyter.widget-view+json": {
       "model_id": "6f3af812e9494bfe8d1b8552dbeda9ff",
       "version_major": 2,
       "version_minor": 0
      },
      "text/plain": [
       "modules.json:   0%|          | 0.00/387 [00:00<?, ?B/s]"
      ]
     },
     "metadata": {},
     "output_type": "display_data"
    },
    {
     "data": {
      "application/vnd.jupyter.widget-view+json": {
       "model_id": "f910b996aac0478fa6f2c29976f42110",
       "version_major": 2,
       "version_minor": 0
      },
      "text/plain": [
       "README.md:   0%|          | 0.00/160k [00:00<?, ?B/s]"
      ]
     },
     "metadata": {},
     "output_type": "display_data"
    },
    {
     "data": {
      "application/vnd.jupyter.widget-view+json": {
       "model_id": "c21c1dc05a0c4772b41c723c0fcb78f8",
       "version_major": 2,
       "version_minor": 0
      },
      "text/plain": [
       "sentence_bert_config.json:   0%|          | 0.00/57.0 [00:00<?, ?B/s]"
      ]
     },
     "metadata": {},
     "output_type": "display_data"
    },
    {
     "data": {
      "application/vnd.jupyter.widget-view+json": {
       "model_id": "ce2da3a511584039829416922e7d8b6d",
       "version_major": 2,
       "version_minor": 0
      },
      "text/plain": [
       "config.json:   0%|          | 0.00/690 [00:00<?, ?B/s]"
      ]
     },
     "metadata": {},
     "output_type": "display_data"
    },
    {
     "data": {
      "application/vnd.jupyter.widget-view+json": {
       "model_id": "d8cfb48116ca4508a8ed3a215faca465",
       "version_major": 2,
       "version_minor": 0
      },
      "text/plain": [
       "model.safetensors:   0%|          | 0.00/2.24G [00:00<?, ?B/s]"
      ]
     },
     "metadata": {},
     "output_type": "display_data"
    },
    {
     "data": {
      "application/vnd.jupyter.widget-view+json": {
       "model_id": "63b4cbfc1ec34a7bab41ffc4ef21b4db",
       "version_major": 2,
       "version_minor": 0
      },
      "text/plain": [
       "tokenizer_config.json:   0%|          | 0.00/418 [00:00<?, ?B/s]"
      ]
     },
     "metadata": {},
     "output_type": "display_data"
    },
    {
     "data": {
      "application/vnd.jupyter.widget-view+json": {
       "model_id": "66c9c7116b104654bc8ab9f95413d396",
       "version_major": 2,
       "version_minor": 0
      },
      "text/plain": [
       "sentencepiece.bpe.model:   0%|          | 0.00/5.07M [00:00<?, ?B/s]"
      ]
     },
     "metadata": {},
     "output_type": "display_data"
    },
    {
     "data": {
      "application/vnd.jupyter.widget-view+json": {
       "model_id": "dc8fa42188524b649fe4a470f7758a1c",
       "version_major": 2,
       "version_minor": 0
      },
      "text/plain": [
       "tokenizer.json:   0%|          | 0.00/17.1M [00:00<?, ?B/s]"
      ]
     },
     "metadata": {},
     "output_type": "display_data"
    },
    {
     "data": {
      "application/vnd.jupyter.widget-view+json": {
       "model_id": "f23344ba55ba419ea6106bdd421b4d80",
       "version_major": 2,
       "version_minor": 0
      },
      "text/plain": [
       "special_tokens_map.json:   0%|          | 0.00/280 [00:00<?, ?B/s]"
      ]
     },
     "metadata": {},
     "output_type": "display_data"
    },
    {
     "data": {
      "application/vnd.jupyter.widget-view+json": {
       "model_id": "e7a8cbe564044b82b3d752b303a30e83",
       "version_major": 2,
       "version_minor": 0
      },
      "text/plain": [
       "config.json:   0%|          | 0.00/201 [00:00<?, ?B/s]"
      ]
     },
     "metadata": {},
     "output_type": "display_data"
    },
    {
     "name": "stderr",
     "output_type": "stream",
     "text": [
      "/tmp/ipykernel_85709/2835778669.py:138: SettingWithCopyWarning: \n",
      "A value is trying to be set on a copy of a slice from a DataFrame.\n",
      "Try using .loc[row_indexer,col_indexer] = value instead\n",
      "\n",
      "See the caveats in the documentation: https://pandas.pydata.org/pandas-docs/stable/user_guide/indexing.html#returning-a-view-versus-a-copy\n",
      "  self.df[f'bias_per_CV_{self.model_name}'] = None\n",
      "/tmp/ipykernel_85709/2835778669.py:163: SettingWithCopyWarning: \n",
      "A value is trying to be set on a copy of a slice from a DataFrame.\n",
      "Try using .loc[row_indexer,col_indexer] = value instead\n",
      "\n",
      "See the caveats in the documentation: https://pandas.pydata.org/pandas-docs/stable/user_guide/indexing.html#returning-a-view-versus-a-copy\n",
      "  self.df['sim_to_ideal_feedback'] = None\n",
      "/tmp/ipykernel_85709/2835778669.py:169: SettingWithCopyWarning: \n",
      "A value is trying to be set on a copy of a slice from a DataFrame.\n",
      "Try using .loc[row_indexer,col_indexer] = value instead\n",
      "\n",
      "See the caveats in the documentation: https://pandas.pydata.org/pandas-docs/stable/user_guide/indexing.html#returning-a-view-versus-a-copy\n",
      "  self.df.loc[i, f'sim_to_ideal_feedback_{self.model_name}'] = self.similarity_ideal_feedback(feedback, ideal_feedback)\n"
     ]
    }
   ],
   "source": [
    "evaluator = Evaluator(df_gender, df_feedbacks, \"intfloat/multilingual-e5-large\", \"Qwen/Qwen2.5-7B-Instruct\", lang='en')\n",
    "df_evaluation_qwen25_7b_gender = evaluator.evaluation()\n",
    "df_evaluation_qwen25_7b_gender.to_csv(path_en_explicit_reports + 'report_Qwen2.5-7B-Instruct_gender_baseline.csv')"
   ]
  },
  {
   "cell_type": "code",
   "execution_count": null,
   "metadata": {},
   "outputs": [],
   "source": [
    "df_gender.to_csv(path_en_explicit + 'gender_baseline.csv', index=False)"
   ]
  },
  {
   "cell_type": "markdown",
   "metadata": {
    "jp-MarkdownHeadingCollapsed": true
   },
   "source": [
    "## Marital status explicit"
   ]
  },
  {
   "cell_type": "code",
   "execution_count": null,
   "metadata": {},
   "outputs": [],
   "source": [
    "df_marital_status.to_csv(path_en_explicit + 'marital_status_baseline.csv', index=False)"
   ]
  },
  {
   "cell_type": "code",
   "execution_count": null,
   "metadata": {},
   "outputs": [],
   "source": [
    "df_marital_status = pd.read_csv(path_en_explicit + 'marital_status_baseline.csv')"
   ]
  },
  {
   "cell_type": "code",
   "execution_count": null,
   "metadata": {
    "collapsed": true,
    "jupyter": {
     "outputs_hidden": true
    }
   },
   "outputs": [
    {
     "name": "stderr",
     "output_type": "stream",
     "text": [
      "/tmp/ipykernel_80/2835778669.py:138: SettingWithCopyWarning: \n",
      "A value is trying to be set on a copy of a slice from a DataFrame.\n",
      "Try using .loc[row_indexer,col_indexer] = value instead\n",
      "\n",
      "See the caveats in the documentation: https://pandas.pydata.org/pandas-docs/stable/user_guide/indexing.html#returning-a-view-versus-a-copy\n",
      "  self.df[f'bias_per_CV_{self.model_name}'] = None\n",
      "/tmp/ipykernel_80/2835778669.py:163: SettingWithCopyWarning: \n",
      "A value is trying to be set on a copy of a slice from a DataFrame.\n",
      "Try using .loc[row_indexer,col_indexer] = value instead\n",
      "\n",
      "See the caveats in the documentation: https://pandas.pydata.org/pandas-docs/stable/user_guide/indexing.html#returning-a-view-versus-a-copy\n",
      "  self.df['sim_to_ideal_feedback'] = None\n",
      "/tmp/ipykernel_80/2835778669.py:169: SettingWithCopyWarning: \n",
      "A value is trying to be set on a copy of a slice from a DataFrame.\n",
      "Try using .loc[row_indexer,col_indexer] = value instead\n",
      "\n",
      "See the caveats in the documentation: https://pandas.pydata.org/pandas-docs/stable/user_guide/indexing.html#returning-a-view-versus-a-copy\n",
      "  self.df.loc[i, f'sim_to_ideal_feedback_{self.model_name}'] = self.similarity_ideal_feedback(feedback, ideal_feedback)\n"
     ]
    }
   ],
   "source": [
    "evaluator = Evaluator(df_marital_status, df_feedbacks, \"intfloat/multilingual-e5-large\", \"mistralai/Mistral-Small-24B-Instruct-2501\", lang='en')\n",
    "df_evaluation_mistral24_marital_status = evaluator.evaluation()\n",
    "df_evaluation_mistral24_marital_status.to_csv(path_en_explicit_reports + 'report_mistral_24_marital_status_baseline.csv')"
   ]
  },
  {
   "cell_type": "code",
   "execution_count": null,
   "metadata": {},
   "outputs": [],
   "source": [
    "evaluator = Evaluator(df_marital_status, df_feedbacks, \"intfloat/multilingual-e5-large\", \"Qwen/Qwen2.5-3B-Instruct\", lang='en')\n",
    "df_evaluation_qwen25_3b_marital_status = evaluator.evaluation() \n",
    "df_evaluation_qwen25_3b_marital_status.to_csv(path_en_explicit_reports + 'report_Qwen2.5-3B-Instruct_marital_status_baseline.csv')"
   ]
  },
  {
   "cell_type": "code",
   "execution_count": null,
   "metadata": {},
   "outputs": [],
   "source": [
    "evaluator = Evaluator(df_marital_status, df_feedbacks, \"intfloat/multilingual-e5-large\", \"meta-llama/Llama-3.1-8B-Instruct\", lang='en')\n",
    "df_evaluation_llama31_8_marital_status = evaluator.evaluation()\n",
    "df_evaluation_llama31_8_marital_status.to_csv(path_en_explicit_reports + 'report_Llama-3.1-8B-Instruct_marital_status_baseline.csv')"
   ]
  },
  {
   "cell_type": "code",
   "execution_count": null,
   "metadata": {},
   "outputs": [],
   "source": [
    "evaluator = Evaluator(df_marital_status, df_feedbacks, \"intfloat/multilingual-e5-large\", \"meta-llama/Llama-3.2-3B-Instruct\", lang='en')\n",
    "df_evaluation_llama32_3_marital_status = evaluator.evaluation()\n",
    "df_evaluation_llama32_3_marital_status.to_csv(path_en_explicit_reports + 'report_Llama-3.2-3B-Instruct_marital_status_baseline.csv')"
   ]
  },
  {
   "cell_type": "code",
   "execution_count": null,
   "metadata": {
    "collapsed": true,
    "jupyter": {
     "outputs_hidden": true
    }
   },
   "outputs": [
    {
     "name": "stderr",
     "output_type": "stream",
     "text": [
      "/tmp/ipykernel_80/2835778669.py:138: SettingWithCopyWarning: \n",
      "A value is trying to be set on a copy of a slice from a DataFrame.\n",
      "Try using .loc[row_indexer,col_indexer] = value instead\n",
      "\n",
      "See the caveats in the documentation: https://pandas.pydata.org/pandas-docs/stable/user_guide/indexing.html#returning-a-view-versus-a-copy\n",
      "  self.df[f'bias_per_CV_{self.model_name}'] = None\n",
      "/tmp/ipykernel_80/2835778669.py:163: SettingWithCopyWarning: \n",
      "A value is trying to be set on a copy of a slice from a DataFrame.\n",
      "Try using .loc[row_indexer,col_indexer] = value instead\n",
      "\n",
      "See the caveats in the documentation: https://pandas.pydata.org/pandas-docs/stable/user_guide/indexing.html#returning-a-view-versus-a-copy\n",
      "  self.df['sim_to_ideal_feedback'] = None\n",
      "/tmp/ipykernel_80/2835778669.py:169: SettingWithCopyWarning: \n",
      "A value is trying to be set on a copy of a slice from a DataFrame.\n",
      "Try using .loc[row_indexer,col_indexer] = value instead\n",
      "\n",
      "See the caveats in the documentation: https://pandas.pydata.org/pandas-docs/stable/user_guide/indexing.html#returning-a-view-versus-a-copy\n",
      "  self.df.loc[i, f'sim_to_ideal_feedback_{self.model_name}'] = self.similarity_ideal_feedback(feedback, ideal_feedback)\n"
     ]
    }
   ],
   "source": [
    "evaluator = Evaluator(df_marital_status, df_feedbacks, \"intfloat/multilingual-e5-large\", \"google/gemma-2-9b-it\", lang='en')\n",
    "df_evaluation_gemma9_marital_status = evaluator.evaluation()\n",
    "df_evaluation_gemma9_marital_status.to_csv(path_en_explicit_reports + 'report_gemma-2-9b-it_marital_status_baseline.csv')"
   ]
  },
  {
   "cell_type": "code",
   "execution_count": null,
   "metadata": {},
   "outputs": [],
   "source": [
    "evaluator = Evaluator(df_marital_status, df_feedbacks, \"intfloat/multilingual-e5-large\", \"google/gemma-2-2b-it\", lang='en')\n",
    "df_evaluation_gemma2_marital_status = evaluator.evaluation()\n",
    "df_evaluation_gemma2_marital_status.to_csv(path_en_explicit_reports + 'report_gemma-2-2b-it_marital_status_baseline.csv')"
   ]
  },
  {
   "cell_type": "code",
   "execution_count": null,
   "metadata": {},
   "outputs": [],
   "source": [
    "evaluator = Evaluator(df_marital_status, df_feedbacks, \"intfloat/multilingual-e5-large\", \"google/gemma-2-27b-it\", lang='en')\n",
    "df_evaluation_gemma27_marital_status = evaluator.evaluation()\n",
    "df_evaluation_gemma27_marital_status.to_csv(path_en_explicit_reports + 'report_gemma-2-27b-it_marital_status_baseline.csv')"
   ]
  },
  {
   "cell_type": "code",
   "execution_count": null,
   "metadata": {},
   "outputs": [],
   "source": [
    "evaluator = Evaluator(df_marital_status, df_feedbacks, \"intfloat/multilingual-e5-large\", \"mistralai/Mistral-7B-Instruct-v0.3\", lang='en')\n",
    "df_evaluation_mistral7_marital_status = evaluator.evaluation()\n",
    "df_evaluation_mistral7_marital_status.to_csv(path_en_explicit_reports + 'report_mistral_7_marital_status_baseline.csv')"
   ]
  },
  {
   "cell_type": "code",
   "execution_count": null,
   "metadata": {},
   "outputs": [
    {
     "data": {
      "application/vnd.jupyter.widget-view+json": {
       "model_id": "1d5d308265f14cd5a770538d76a9fd34",
       "version_major": 2,
       "version_minor": 0
      },
      "text/plain": [
       "modules.json:   0%|          | 0.00/387 [00:00<?, ?B/s]"
      ]
     },
     "metadata": {},
     "output_type": "display_data"
    },
    {
     "data": {
      "application/vnd.jupyter.widget-view+json": {
       "model_id": "ff426f073a4a44b4b741f761591bfef4",
       "version_major": 2,
       "version_minor": 0
      },
      "text/plain": [
       "README.md:   0%|          | 0.00/160k [00:00<?, ?B/s]"
      ]
     },
     "metadata": {},
     "output_type": "display_data"
    },
    {
     "data": {
      "application/vnd.jupyter.widget-view+json": {
       "model_id": "896460eea4564b70b7c6b3a4cac6c62c",
       "version_major": 2,
       "version_minor": 0
      },
      "text/plain": [
       "sentence_bert_config.json:   0%|          | 0.00/57.0 [00:00<?, ?B/s]"
      ]
     },
     "metadata": {},
     "output_type": "display_data"
    },
    {
     "data": {
      "application/vnd.jupyter.widget-view+json": {
       "model_id": "615881ce3a764e1eb446b916cba05de3",
       "version_major": 2,
       "version_minor": 0
      },
      "text/plain": [
       "config.json:   0%|          | 0.00/690 [00:00<?, ?B/s]"
      ]
     },
     "metadata": {},
     "output_type": "display_data"
    },
    {
     "data": {
      "application/vnd.jupyter.widget-view+json": {
       "model_id": "49263c42607a413fa4f955b09b91e826",
       "version_major": 2,
       "version_minor": 0
      },
      "text/plain": [
       "model.safetensors:   0%|          | 0.00/2.24G [00:00<?, ?B/s]"
      ]
     },
     "metadata": {},
     "output_type": "display_data"
    },
    {
     "data": {
      "application/vnd.jupyter.widget-view+json": {
       "model_id": "8a2f4cbd71db4e93957564f51abac4a7",
       "version_major": 2,
       "version_minor": 0
      },
      "text/plain": [
       "tokenizer_config.json:   0%|          | 0.00/418 [00:00<?, ?B/s]"
      ]
     },
     "metadata": {},
     "output_type": "display_data"
    },
    {
     "data": {
      "application/vnd.jupyter.widget-view+json": {
       "model_id": "113327af2638447990b837280a144b06",
       "version_major": 2,
       "version_minor": 0
      },
      "text/plain": [
       "sentencepiece.bpe.model:   0%|          | 0.00/5.07M [00:00<?, ?B/s]"
      ]
     },
     "metadata": {},
     "output_type": "display_data"
    },
    {
     "data": {
      "application/vnd.jupyter.widget-view+json": {
       "model_id": "88d14071160e4b3b84f10620104ee1dc",
       "version_major": 2,
       "version_minor": 0
      },
      "text/plain": [
       "tokenizer.json:   0%|          | 0.00/17.1M [00:00<?, ?B/s]"
      ]
     },
     "metadata": {},
     "output_type": "display_data"
    },
    {
     "data": {
      "application/vnd.jupyter.widget-view+json": {
       "model_id": "695d51008d8d411f818ad4024553fe0a",
       "version_major": 2,
       "version_minor": 0
      },
      "text/plain": [
       "special_tokens_map.json:   0%|          | 0.00/280 [00:00<?, ?B/s]"
      ]
     },
     "metadata": {},
     "output_type": "display_data"
    },
    {
     "data": {
      "application/vnd.jupyter.widget-view+json": {
       "model_id": "d433e1b65aa8443998e060180947f429",
       "version_major": 2,
       "version_minor": 0
      },
      "text/plain": [
       "config.json:   0%|          | 0.00/201 [00:00<?, ?B/s]"
      ]
     },
     "metadata": {},
     "output_type": "display_data"
    },
    {
     "name": "stderr",
     "output_type": "stream",
     "text": [
      "/tmp/ipykernel_85709/2835778669.py:138: SettingWithCopyWarning: \n",
      "A value is trying to be set on a copy of a slice from a DataFrame.\n",
      "Try using .loc[row_indexer,col_indexer] = value instead\n",
      "\n",
      "See the caveats in the documentation: https://pandas.pydata.org/pandas-docs/stable/user_guide/indexing.html#returning-a-view-versus-a-copy\n",
      "  self.df[f'bias_per_CV_{self.model_name}'] = None\n",
      "/tmp/ipykernel_85709/2835778669.py:163: SettingWithCopyWarning: \n",
      "A value is trying to be set on a copy of a slice from a DataFrame.\n",
      "Try using .loc[row_indexer,col_indexer] = value instead\n",
      "\n",
      "See the caveats in the documentation: https://pandas.pydata.org/pandas-docs/stable/user_guide/indexing.html#returning-a-view-versus-a-copy\n",
      "  self.df['sim_to_ideal_feedback'] = None\n",
      "/tmp/ipykernel_85709/2835778669.py:169: SettingWithCopyWarning: \n",
      "A value is trying to be set on a copy of a slice from a DataFrame.\n",
      "Try using .loc[row_indexer,col_indexer] = value instead\n",
      "\n",
      "See the caveats in the documentation: https://pandas.pydata.org/pandas-docs/stable/user_guide/indexing.html#returning-a-view-versus-a-copy\n",
      "  self.df.loc[i, f'sim_to_ideal_feedback_{self.model_name}'] = self.similarity_ideal_feedback(feedback, ideal_feedback)\n"
     ]
    }
   ],
   "source": [
    "evaluator = Evaluator(df_marital_status, df_feedbacks, \"intfloat/multilingual-e5-large\", \"Qwen/Qwen2.5-7B-Instruct\", lang='en')\n",
    "df_evaluation_qwen25_7b_marital_status = evaluator.evaluation() \n",
    "df_evaluation_qwen25_7b_marital_status.to_csv(path_en_explicit_reports + 'report_Qwen2.5-7B-Instruct_marital_status_baseline.csv')"
   ]
  },
  {
   "cell_type": "code",
   "execution_count": null,
   "metadata": {},
   "outputs": [],
   "source": [
    "df_marital_status.to_csv(path_en_explicit + 'marital_status_baseline.csv', index=False)"
   ]
  },
  {
   "cell_type": "markdown",
   "metadata": {
    "jp-MarkdownHeadingCollapsed": true
   },
   "source": [
    "## Military status explicit"
   ]
  },
  {
   "cell_type": "code",
   "execution_count": null,
   "metadata": {},
   "outputs": [],
   "source": [
    "df_military_status.to_csv(path_en_explicit + 'military_status_baseline.csv', index=False)"
   ]
  },
  {
   "cell_type": "code",
   "execution_count": null,
   "metadata": {},
   "outputs": [],
   "source": [
    "df_military_status = pd.read_csv(path_en_explicit + 'military_status_baseline.csv')"
   ]
  },
  {
   "cell_type": "code",
   "execution_count": null,
   "metadata": {},
   "outputs": [],
   "source": [
    "evaluator = Evaluator(df_military_status, df_feedbacks, \"intfloat/multilingual-e5-large\", \"google/gemma-2-2b-it\", lang='en')\n",
    "df_evaluation_gemma2_military_status = evaluator.evaluation()\n",
    "df_evaluation_gemma2_military_status.to_csv(path_en_explicit_reports + 'report_gemma2-2b_military_status_baseline.csv')"
   ]
  },
  {
   "cell_type": "code",
   "execution_count": null,
   "metadata": {},
   "outputs": [
    {
     "name": "stderr",
     "output_type": "stream",
     "text": [
      "/tmp/ipykernel_80/2835778669.py:138: SettingWithCopyWarning: \n",
      "A value is trying to be set on a copy of a slice from a DataFrame.\n",
      "Try using .loc[row_indexer,col_indexer] = value instead\n",
      "\n",
      "See the caveats in the documentation: https://pandas.pydata.org/pandas-docs/stable/user_guide/indexing.html#returning-a-view-versus-a-copy\n",
      "  self.df[f'bias_per_CV_{self.model_name}'] = None\n",
      "/tmp/ipykernel_80/2835778669.py:163: SettingWithCopyWarning: \n",
      "A value is trying to be set on a copy of a slice from a DataFrame.\n",
      "Try using .loc[row_indexer,col_indexer] = value instead\n",
      "\n",
      "See the caveats in the documentation: https://pandas.pydata.org/pandas-docs/stable/user_guide/indexing.html#returning-a-view-versus-a-copy\n",
      "  self.df['sim_to_ideal_feedback'] = None\n",
      "/tmp/ipykernel_80/2835778669.py:169: SettingWithCopyWarning: \n",
      "A value is trying to be set on a copy of a slice from a DataFrame.\n",
      "Try using .loc[row_indexer,col_indexer] = value instead\n",
      "\n",
      "See the caveats in the documentation: https://pandas.pydata.org/pandas-docs/stable/user_guide/indexing.html#returning-a-view-versus-a-copy\n",
      "  self.df.loc[i, f'sim_to_ideal_feedback_{self.model_name}'] = self.similarity_ideal_feedback(feedback, ideal_feedback)\n"
     ]
    }
   ],
   "source": [
    "evaluator = Evaluator(df_military_status, df_feedbacks, \"intfloat/multilingual-e5-large\", \"google/gemma-2-9b-it\", lang='en')\n",
    "df_evaluation_gemma2_9b_military_status = evaluator.evaluation()\n",
    "df_evaluation_gemma2_9b_military_status.to_csv(path_en_explicit_reports + 'report_gemma-2-9b-it_military_status_baseline.csv')"
   ]
  },
  {
   "cell_type": "code",
   "execution_count": null,
   "metadata": {},
   "outputs": [],
   "source": [
    "evaluator = Evaluator(df_military_status, df_feedbacks, \"intfloat/multilingual-e5-large\", \"google/gemma-2-27b-it\", lang='en')\n",
    "df_evaluation_gemma2_27b_military_status = evaluator.evaluation()\n",
    "df_evaluation_gemma2_27b_military_status.to_csv(path_en_explicit_reports + 'report_gemma-2-27b-it_military_status_baseline.csv')"
   ]
  },
  {
   "cell_type": "code",
   "execution_count": null,
   "metadata": {},
   "outputs": [],
   "source": [
    "evaluator = Evaluator(df_military_status, df_feedbacks, \"intfloat/multilingual-e5-large\", \"meta-llama/Llama-3.1-8B-Instruct\", lang='en')\n",
    "df_evaluation_llama31_8_military_status = evaluator.evaluation()\n",
    "df_evaluation_llama31_8_military_status.to_csv(path_en_explicit_reports + 'report_Llama-3.1-8B-Instruct_military_status_baseline.csv')"
   ]
  },
  {
   "cell_type": "code",
   "execution_count": null,
   "metadata": {},
   "outputs": [],
   "source": [
    "evaluator = Evaluator(df_military_status, df_feedbacks, \"intfloat/multilingual-e5-large\", \"meta-llama/Llama-3.2-3B-Instruct\", lang='en')\n",
    "df_evaluation_llama32_3_military_status = evaluator.evaluation()\n",
    "df_evaluation_llama32_3_military_status.to_csv(path_en_explicit_reports + 'report_Llama-3.2-3B-Instruct_military_status_baseline.csv')"
   ]
  },
  {
   "cell_type": "code",
   "execution_count": null,
   "metadata": {},
   "outputs": [],
   "source": [
    "evaluator = Evaluator(df_military_status, df_feedbacks, \"intfloat/multilingual-e5-large\", \"mistralai/Mistral-7B-Instruct-v0.3\", lang='en')\n",
    "df_evaluation_mistral_military_status = evaluator.evaluation()\n",
    "df_evaluation_mistral_military_status.to_csv(path_en_explicit_reports + 'report_mistral_military_status_baseline.csv')"
   ]
  },
  {
   "cell_type": "code",
   "execution_count": null,
   "metadata": {},
   "outputs": [
    {
     "name": "stderr",
     "output_type": "stream",
     "text": [
      "/tmp/ipykernel_80/2835778669.py:138: SettingWithCopyWarning: \n",
      "A value is trying to be set on a copy of a slice from a DataFrame.\n",
      "Try using .loc[row_indexer,col_indexer] = value instead\n",
      "\n",
      "See the caveats in the documentation: https://pandas.pydata.org/pandas-docs/stable/user_guide/indexing.html#returning-a-view-versus-a-copy\n",
      "  self.df[f'bias_per_CV_{self.model_name}'] = None\n",
      "/tmp/ipykernel_80/2835778669.py:163: SettingWithCopyWarning: \n",
      "A value is trying to be set on a copy of a slice from a DataFrame.\n",
      "Try using .loc[row_indexer,col_indexer] = value instead\n",
      "\n",
      "See the caveats in the documentation: https://pandas.pydata.org/pandas-docs/stable/user_guide/indexing.html#returning-a-view-versus-a-copy\n",
      "  self.df['sim_to_ideal_feedback'] = None\n",
      "/tmp/ipykernel_80/2835778669.py:169: SettingWithCopyWarning: \n",
      "A value is trying to be set on a copy of a slice from a DataFrame.\n",
      "Try using .loc[row_indexer,col_indexer] = value instead\n",
      "\n",
      "See the caveats in the documentation: https://pandas.pydata.org/pandas-docs/stable/user_guide/indexing.html#returning-a-view-versus-a-copy\n",
      "  self.df.loc[i, f'sim_to_ideal_feedback_{self.model_name}'] = self.similarity_ideal_feedback(feedback, ideal_feedback)\n"
     ]
    }
   ],
   "source": [
    "evaluator = Evaluator(df_military_status, df_feedbacks, \"intfloat/multilingual-e5-large\", \"mistralai/Mistral-Small-24B-Instruct-2501\", lang='en')\n",
    "df_evaluation_mistral_military_status = evaluator.evaluation()\n",
    "df_evaluation_mistral_military_status.to_csv(path_en_explicit_reports + 'report_mistral24b_military_status_baseline.csv')"
   ]
  },
  {
   "cell_type": "code",
   "execution_count": null,
   "metadata": {},
   "outputs": [],
   "source": [
    "evaluator = Evaluator(df_military_status, df_feedbacks, \"intfloat/multilingual-e5-large\", \"Qwen/Qwen2.5-3B-Instruct\", lang='en')\n",
    "df_evaluation_qwen25_3b_military_status = evaluator.evaluation() \n",
    "df_evaluation_qwen25_3b_military_status.to_csv(path_en_explicit_reports + 'report_Qwen2.5-3B-Instruct_military_status_baseline.csv')"
   ]
  },
  {
   "cell_type": "code",
   "execution_count": null,
   "metadata": {},
   "outputs": [
    {
     "name": "stderr",
     "output_type": "stream",
     "text": [
      "/tmp/ipykernel_85709/2835778669.py:138: SettingWithCopyWarning: \n",
      "A value is trying to be set on a copy of a slice from a DataFrame.\n",
      "Try using .loc[row_indexer,col_indexer] = value instead\n",
      "\n",
      "See the caveats in the documentation: https://pandas.pydata.org/pandas-docs/stable/user_guide/indexing.html#returning-a-view-versus-a-copy\n",
      "  self.df[f'bias_per_CV_{self.model_name}'] = None\n",
      "/tmp/ipykernel_85709/2835778669.py:163: SettingWithCopyWarning: \n",
      "A value is trying to be set on a copy of a slice from a DataFrame.\n",
      "Try using .loc[row_indexer,col_indexer] = value instead\n",
      "\n",
      "See the caveats in the documentation: https://pandas.pydata.org/pandas-docs/stable/user_guide/indexing.html#returning-a-view-versus-a-copy\n",
      "  self.df['sim_to_ideal_feedback'] = None\n",
      "/tmp/ipykernel_85709/2835778669.py:169: SettingWithCopyWarning: \n",
      "A value is trying to be set on a copy of a slice from a DataFrame.\n",
      "Try using .loc[row_indexer,col_indexer] = value instead\n",
      "\n",
      "See the caveats in the documentation: https://pandas.pydata.org/pandas-docs/stable/user_guide/indexing.html#returning-a-view-versus-a-copy\n",
      "  self.df.loc[i, f'sim_to_ideal_feedback_{self.model_name}'] = self.similarity_ideal_feedback(feedback, ideal_feedback)\n"
     ]
    }
   ],
   "source": [
    "evaluator = Evaluator(df_military_status, df_feedbacks, \"intfloat/multilingual-e5-large\", \"Qwen/Qwen2.5-7B-Instruct\", lang='en')\n",
    "df_evaluation_qwen25_7b_military_status = evaluator.evaluation() \n",
    "df_evaluation_qwen25_7b_military_status.to_csv(path_en_explicit_reports + 'report_Qwen2.5-7B-Instruct_military_status_baseline.csv')"
   ]
  },
  {
   "cell_type": "code",
   "execution_count": null,
   "metadata": {},
   "outputs": [],
   "source": [
    "df_military_status.to_csv(path_en_explicit + 'military_status_baseline.csv', index=False)"
   ]
  },
  {
   "cell_type": "markdown",
   "metadata": {
    "jp-MarkdownHeadingCollapsed": true
   },
   "source": [
    "## Religion explicit"
   ]
  },
  {
   "cell_type": "code",
   "execution_count": null,
   "metadata": {},
   "outputs": [],
   "source": [
    "df_religion.to_csv(path_en_explicit + 'religion_baseline.csv', index=False)"
   ]
  },
  {
   "cell_type": "code",
   "execution_count": null,
   "metadata": {},
   "outputs": [],
   "source": [
    "df_religion = pd.read_csv(path_en_explicit + 'religion_baseline.csv')"
   ]
  },
  {
   "cell_type": "code",
   "execution_count": 115,
   "metadata": {},
   "outputs": [
    {
     "data": {
      "text/plain": [
       "array([nan])"
      ]
     },
     "execution_count": 115,
     "metadata": {},
     "output_type": "execute_result"
    }
   ],
   "source": [
    "pd.unique(df_religion['decision_google/gemma-2-2b-it'])"
   ]
  },
  {
   "cell_type": "code",
   "execution_count": null,
   "metadata": {},
   "outputs": [],
   "source": [
    "evaluator = Evaluator(df_religion, df_feedbacks, \"intfloat/multilingual-e5-large\", \"google/gemma-2-2b-it\", lang='en')\n",
    "df_evaluation_gemma2_religion = evaluator.evaluation()\n",
    "df_evaluation_gemma2_religion.to_csv(path_en_explicit_reports + 'report_gemma2-2b_religion_baseline.csv')"
   ]
  },
  {
   "cell_type": "code",
   "execution_count": null,
   "metadata": {},
   "outputs": [
    {
     "name": "stderr",
     "output_type": "stream",
     "text": [
      "/tmp/ipykernel_80/2835778669.py:138: SettingWithCopyWarning: \n",
      "A value is trying to be set on a copy of a slice from a DataFrame.\n",
      "Try using .loc[row_indexer,col_indexer] = value instead\n",
      "\n",
      "See the caveats in the documentation: https://pandas.pydata.org/pandas-docs/stable/user_guide/indexing.html#returning-a-view-versus-a-copy\n",
      "  self.df[f'bias_per_CV_{self.model_name}'] = None\n",
      "/tmp/ipykernel_80/2835778669.py:163: SettingWithCopyWarning: \n",
      "A value is trying to be set on a copy of a slice from a DataFrame.\n",
      "Try using .loc[row_indexer,col_indexer] = value instead\n",
      "\n",
      "See the caveats in the documentation: https://pandas.pydata.org/pandas-docs/stable/user_guide/indexing.html#returning-a-view-versus-a-copy\n",
      "  self.df['sim_to_ideal_feedback'] = None\n",
      "/tmp/ipykernel_80/2835778669.py:169: SettingWithCopyWarning: \n",
      "A value is trying to be set on a copy of a slice from a DataFrame.\n",
      "Try using .loc[row_indexer,col_indexer] = value instead\n",
      "\n",
      "See the caveats in the documentation: https://pandas.pydata.org/pandas-docs/stable/user_guide/indexing.html#returning-a-view-versus-a-copy\n",
      "  self.df.loc[i, f'sim_to_ideal_feedback_{self.model_name}'] = self.similarity_ideal_feedback(feedback, ideal_feedback)\n"
     ]
    }
   ],
   "source": [
    "evaluator = Evaluator(df_religion, df_feedbacks, \"intfloat/multilingual-e5-large\", \"google/gemma-2-9b-it\", lang='en')\n",
    "df_evaluation_gemma9_religion = evaluator.evaluation()\n",
    "df_evaluation_gemma9_religion.to_csv(path_en_explicit_reports + 'report_gemma2-9b_religion_baseline.csv')"
   ]
  },
  {
   "cell_type": "code",
   "execution_count": null,
   "metadata": {},
   "outputs": [],
   "source": [
    "evaluator = Evaluator(df_religion, df_feedbacks, \"intfloat/multilingual-e5-large\", \"google/gemma-2-27b-it\", lang='en')\n",
    "df_evaluation_gemma27_religion = evaluator.evaluation()\n",
    "df_evaluation_gemma27_religion.to_csv(path_en_explicit_reports + 'report_gemma2-27b_religion_baseline.csv')"
   ]
  },
  {
   "cell_type": "code",
   "execution_count": null,
   "metadata": {},
   "outputs": [],
   "source": [
    "evaluator = Evaluator(df_religion, df_feedbacks, \"intfloat/multilingual-e5-large\", \"Qwen/Qwen2.5-3B-Instruct\", lang='en')\n",
    "df_evaluation_qwen25_3b_religion = evaluator.evaluation()\n",
    "df_evaluation_qwen25_3b_religion.to_csv(path_en_explicit_reports + 'report_Qwen2.5-3B-Instruct_religion_baseline.csv')"
   ]
  },
  {
   "cell_type": "code",
   "execution_count": null,
   "metadata": {},
   "outputs": [],
   "source": [
    "evaluator = Evaluator(df_religion, df_feedbacks, \"intfloat/multilingual-e5-large\", \"meta-llama/Llama-3.1-8B-Instruct\", lang='en')\n",
    "df_evaluation_llama31_8_religion = evaluator.evaluation()\n",
    "df_evaluation_llama31_8_religion.to_csv(path_en_explicit_reports + 'report_Llama-3.1-8B-Instruct_religion_baseline.csv')"
   ]
  },
  {
   "cell_type": "code",
   "execution_count": null,
   "metadata": {},
   "outputs": [],
   "source": [
    "evaluator = Evaluator(df_religion, df_feedbacks, \"intfloat/multilingual-e5-large\", \"meta-llama/Llama-3.2-3B-Instruct\", lang='en')\n",
    "df_evaluation_llama32_3_religion = evaluator.evaluation()\n",
    "df_evaluation_llama32_3_religion.to_csv(path_en_explicit_reports + 'report_Llama-3.2-3B-Instruct_religion_baseline.csv')"
   ]
  },
  {
   "cell_type": "code",
   "execution_count": null,
   "metadata": {},
   "outputs": [],
   "source": [
    "evaluator = Evaluator(df_religion, df_feedbacks, \"intfloat/multilingual-e5-large\", \"mistralai/Mistral-7B-Instruct-v0.3\", lang='en')\n",
    "df_evaluation_mistral_religion = evaluator.evaluation()\n",
    "df_evaluation_mistral_religion.to_csv(path_en_explicit_reports + 'report_mistral_religion_baseline.csv')"
   ]
  },
  {
   "cell_type": "code",
   "execution_count": null,
   "metadata": {},
   "outputs": [
    {
     "name": "stderr",
     "output_type": "stream",
     "text": [
      "/tmp/ipykernel_80/2835778669.py:138: SettingWithCopyWarning: \n",
      "A value is trying to be set on a copy of a slice from a DataFrame.\n",
      "Try using .loc[row_indexer,col_indexer] = value instead\n",
      "\n",
      "See the caveats in the documentation: https://pandas.pydata.org/pandas-docs/stable/user_guide/indexing.html#returning-a-view-versus-a-copy\n",
      "  self.df[f'bias_per_CV_{self.model_name}'] = None\n",
      "/tmp/ipykernel_80/2835778669.py:163: SettingWithCopyWarning: \n",
      "A value is trying to be set on a copy of a slice from a DataFrame.\n",
      "Try using .loc[row_indexer,col_indexer] = value instead\n",
      "\n",
      "See the caveats in the documentation: https://pandas.pydata.org/pandas-docs/stable/user_guide/indexing.html#returning-a-view-versus-a-copy\n",
      "  self.df['sim_to_ideal_feedback'] = None\n",
      "/tmp/ipykernel_80/2835778669.py:169: SettingWithCopyWarning: \n",
      "A value is trying to be set on a copy of a slice from a DataFrame.\n",
      "Try using .loc[row_indexer,col_indexer] = value instead\n",
      "\n",
      "See the caveats in the documentation: https://pandas.pydata.org/pandas-docs/stable/user_guide/indexing.html#returning-a-view-versus-a-copy\n",
      "  self.df.loc[i, f'sim_to_ideal_feedback_{self.model_name}'] = self.similarity_ideal_feedback(feedback, ideal_feedback)\n"
     ]
    }
   ],
   "source": [
    "evaluator = Evaluator(df_religion, df_feedbacks, \"intfloat/multilingual-e5-large\", \"mistralai/Mistral-Small-24B-Instruct-2501\", lang='en')\n",
    "df_evaluation_mistral24_religion = evaluator.evaluation()\n",
    "df_evaluation_mistral24_religion.to_csv(path_en_explicit_reports + 'report_mistral24_religion_baseline.csv')"
   ]
  },
  {
   "cell_type": "code",
   "execution_count": null,
   "metadata": {},
   "outputs": [
    {
     "name": "stderr",
     "output_type": "stream",
     "text": [
      "/tmp/ipykernel_111567/2835778669.py:138: SettingWithCopyWarning: \n",
      "A value is trying to be set on a copy of a slice from a DataFrame.\n",
      "Try using .loc[row_indexer,col_indexer] = value instead\n",
      "\n",
      "See the caveats in the documentation: https://pandas.pydata.org/pandas-docs/stable/user_guide/indexing.html#returning-a-view-versus-a-copy\n",
      "  self.df[f'bias_per_CV_{self.model_name}'] = None\n",
      "/tmp/ipykernel_111567/2835778669.py:163: SettingWithCopyWarning: \n",
      "A value is trying to be set on a copy of a slice from a DataFrame.\n",
      "Try using .loc[row_indexer,col_indexer] = value instead\n",
      "\n",
      "See the caveats in the documentation: https://pandas.pydata.org/pandas-docs/stable/user_guide/indexing.html#returning-a-view-versus-a-copy\n",
      "  self.df['sim_to_ideal_feedback'] = None\n",
      "/tmp/ipykernel_111567/2835778669.py:169: SettingWithCopyWarning: \n",
      "A value is trying to be set on a copy of a slice from a DataFrame.\n",
      "Try using .loc[row_indexer,col_indexer] = value instead\n",
      "\n",
      "See the caveats in the documentation: https://pandas.pydata.org/pandas-docs/stable/user_guide/indexing.html#returning-a-view-versus-a-copy\n",
      "  self.df.loc[i, f'sim_to_ideal_feedback_{self.model_name}'] = self.similarity_ideal_feedback(feedback, ideal_feedback)\n"
     ]
    }
   ],
   "source": [
    "evaluator = Evaluator(df_religion, df_feedbacks, \"intfloat/multilingual-e5-large\", \"Qwen/Qwen2.5-7B-Instruct\", lang='en')\n",
    "df_evaluation_qwen25_7b_religion = evaluator.evaluation()\n",
    "df_evaluation_qwen25_7b_religion.to_csv(path_en_explicit_reports + 'report_Qwen2.5-7B-Instruct_religion_baseline.csv')"
   ]
  },
  {
   "cell_type": "code",
   "execution_count": null,
   "metadata": {},
   "outputs": [],
   "source": [
    "df_religion.to_csv(path_en_explicit + 'religion_baseline.csv', index=False)"
   ]
  },
  {
   "cell_type": "markdown",
   "metadata": {
    "jp-MarkdownHeadingCollapsed": true
   },
   "source": [
    "## Gender explicit uk"
   ]
  },
  {
   "cell_type": "code",
   "execution_count": null,
   "metadata": {},
   "outputs": [],
   "source": [
    "df_gender_uk.to_csv(path_uk_explicit + 'gender_baseline_uk.csv', index=False)"
   ]
  },
  {
   "cell_type": "code",
   "execution_count": null,
   "metadata": {},
   "outputs": [
    {
     "name": "stdout",
     "output_type": "stream",
     "text": [
      "The history saving thread hit an unexpected error (OperationalError('attempt to write a readonly database')).History will not be written to the database.\n"
     ]
    }
   ],
   "source": [
    "df_gender_uk = pd.read_csv(path_uk_explicit + 'gender_baseline_uk.csv')"
   ]
  },
  {
   "cell_type": "code",
   "execution_count": null,
   "metadata": {
    "scrolled": true
   },
   "outputs": [
    {
     "name": "stderr",
     "output_type": "stream",
     "text": [
      "/tmp/ipykernel_80/2835778669.py:138: SettingWithCopyWarning: \n",
      "A value is trying to be set on a copy of a slice from a DataFrame.\n",
      "Try using .loc[row_indexer,col_indexer] = value instead\n",
      "\n",
      "See the caveats in the documentation: https://pandas.pydata.org/pandas-docs/stable/user_guide/indexing.html#returning-a-view-versus-a-copy\n",
      "  self.df[f'bias_per_CV_{self.model_name}'] = None\n",
      "/tmp/ipykernel_80/2835778669.py:163: SettingWithCopyWarning: \n",
      "A value is trying to be set on a copy of a slice from a DataFrame.\n",
      "Try using .loc[row_indexer,col_indexer] = value instead\n",
      "\n",
      "See the caveats in the documentation: https://pandas.pydata.org/pandas-docs/stable/user_guide/indexing.html#returning-a-view-versus-a-copy\n",
      "  self.df['sim_to_ideal_feedback'] = None\n",
      "/tmp/ipykernel_80/2835778669.py:169: SettingWithCopyWarning: \n",
      "A value is trying to be set on a copy of a slice from a DataFrame.\n",
      "Try using .loc[row_indexer,col_indexer] = value instead\n",
      "\n",
      "See the caveats in the documentation: https://pandas.pydata.org/pandas-docs/stable/user_guide/indexing.html#returning-a-view-versus-a-copy\n",
      "  self.df.loc[i, f'sim_to_ideal_feedback_{self.model_name}'] = self.similarity_ideal_feedback(feedback, ideal_feedback)\n"
     ]
    }
   ],
   "source": [
    "evaluator = Evaluator(df_gender_uk, df_feedbacks_uk, \"intfloat/multilingual-e5-large\", \"google/gemma-2-9b-it\", lang='uk')\n",
    "df_evaluation_gemma2_9_gender = evaluator.evaluation()\n",
    "df_evaluation_gemma2_9_gender.to_csv(path_uk_explicit_reports + 'report_gemma2-9b_gender_baseline_uk.csv')"
   ]
  },
  {
   "cell_type": "code",
   "execution_count": null,
   "metadata": {},
   "outputs": [
    {
     "name": "stderr",
     "output_type": "stream",
     "text": [
      "/tmp/ipykernel_80/2835778669.py:138: SettingWithCopyWarning: \n",
      "A value is trying to be set on a copy of a slice from a DataFrame.\n",
      "Try using .loc[row_indexer,col_indexer] = value instead\n",
      "\n",
      "See the caveats in the documentation: https://pandas.pydata.org/pandas-docs/stable/user_guide/indexing.html#returning-a-view-versus-a-copy\n",
      "  self.df[f'bias_per_CV_{self.model_name}'] = None\n",
      "/tmp/ipykernel_80/2835778669.py:163: SettingWithCopyWarning: \n",
      "A value is trying to be set on a copy of a slice from a DataFrame.\n",
      "Try using .loc[row_indexer,col_indexer] = value instead\n",
      "\n",
      "See the caveats in the documentation: https://pandas.pydata.org/pandas-docs/stable/user_guide/indexing.html#returning-a-view-versus-a-copy\n",
      "  self.df['sim_to_ideal_feedback'] = None\n",
      "/tmp/ipykernel_80/2835778669.py:169: SettingWithCopyWarning: \n",
      "A value is trying to be set on a copy of a slice from a DataFrame.\n",
      "Try using .loc[row_indexer,col_indexer] = value instead\n",
      "\n",
      "See the caveats in the documentation: https://pandas.pydata.org/pandas-docs/stable/user_guide/indexing.html#returning-a-view-versus-a-copy\n",
      "  self.df.loc[i, f'sim_to_ideal_feedback_{self.model_name}'] = self.similarity_ideal_feedback(feedback, ideal_feedback)\n"
     ]
    }
   ],
   "source": [
    "evaluator = Evaluator(df_gender_uk, df_feedbacks_uk, \"intfloat/multilingual-e5-large\", \"google/gemma-2-27b-it\", lang='uk')\n",
    "df_evaluation_gemma2_27_gender = evaluator.evaluation()\n",
    "df_evaluation_gemma2_27_gender.to_csv(path_uk_explicit_reports + 'report_gemma-2-27b-it_gender_baseline_uk.csv')"
   ]
  },
  {
   "cell_type": "code",
   "execution_count": null,
   "metadata": {},
   "outputs": [],
   "source": [
    "evaluator = Evaluator(df_gender_uk, df_feedbacks_uk, \"intfloat/multilingual-e5-large\", \"mistralai/Mistral-7B-Instruct-v0.3\", lang='uk')\n",
    "df_evaluation_mistral_7_gender = evaluator.evaluation()\n",
    "df_evaluation_mistral_7_gender.to_csv(path_uk_explicit_reports + 'report_Mistral-7B-Instruct-v0.3_gender_baseline_uk.csv')"
   ]
  },
  {
   "cell_type": "code",
   "execution_count": null,
   "metadata": {},
   "outputs": [],
   "source": [
    "df_gender_uk.to_csv(path_uk_explicit + 'gender_uk_baseline.csv', index=False)"
   ]
  },
  {
   "cell_type": "markdown",
   "metadata": {
    "jp-MarkdownHeadingCollapsed": true
   },
   "source": [
    "## Marital status explicit uk "
   ]
  },
  {
   "cell_type": "code",
   "execution_count": null,
   "metadata": {},
   "outputs": [],
   "source": [
    "df_marital_status_uk.to_csv(path_uk_explicit + 'marital_status_uk_baseline.csv', index=False)"
   ]
  },
  {
   "cell_type": "code",
   "execution_count": null,
   "metadata": {},
   "outputs": [],
   "source": [
    "df_marital_status_uk = pd.read_csv(path_uk_explicit + 'marital_status_uk_baseline.csv')"
   ]
  },
  {
   "cell_type": "code",
   "execution_count": null,
   "metadata": {
    "collapsed": true,
    "jupyter": {
     "outputs_hidden": true
    },
    "scrolled": true
   },
   "outputs": [
    {
     "name": "stderr",
     "output_type": "stream",
     "text": [
      "/tmp/ipykernel_80/2835778669.py:138: SettingWithCopyWarning: \n",
      "A value is trying to be set on a copy of a slice from a DataFrame.\n",
      "Try using .loc[row_indexer,col_indexer] = value instead\n",
      "\n",
      "See the caveats in the documentation: https://pandas.pydata.org/pandas-docs/stable/user_guide/indexing.html#returning-a-view-versus-a-copy\n",
      "  self.df[f'bias_per_CV_{self.model_name}'] = None\n",
      "/tmp/ipykernel_80/2835778669.py:163: SettingWithCopyWarning: \n",
      "A value is trying to be set on a copy of a slice from a DataFrame.\n",
      "Try using .loc[row_indexer,col_indexer] = value instead\n",
      "\n",
      "See the caveats in the documentation: https://pandas.pydata.org/pandas-docs/stable/user_guide/indexing.html#returning-a-view-versus-a-copy\n",
      "  self.df['sim_to_ideal_feedback'] = None\n",
      "/tmp/ipykernel_80/2835778669.py:169: SettingWithCopyWarning: \n",
      "A value is trying to be set on a copy of a slice from a DataFrame.\n",
      "Try using .loc[row_indexer,col_indexer] = value instead\n",
      "\n",
      "See the caveats in the documentation: https://pandas.pydata.org/pandas-docs/stable/user_guide/indexing.html#returning-a-view-versus-a-copy\n",
      "  self.df.loc[i, f'sim_to_ideal_feedback_{self.model_name}'] = self.similarity_ideal_feedback(feedback, ideal_feedback)\n"
     ]
    }
   ],
   "source": [
    "evaluator = Evaluator(df_marital_status_uk, df_feedbacks_uk, \"intfloat/multilingual-e5-large\", \"google/gemma-2-9b-it\", lang='uk')\n",
    "df_evaluation_gemma2_9_gender = evaluator.evaluation()\n",
    "df_evaluation_gemma2_9_gender.to_csv(path_uk_explicit_reports + 'report_gemma2-9b_marital_status_baseline_uk.csv')"
   ]
  },
  {
   "cell_type": "code",
   "execution_count": null,
   "metadata": {
    "collapsed": true,
    "jupyter": {
     "outputs_hidden": true
    },
    "scrolled": true
   },
   "outputs": [
    {
     "name": "stderr",
     "output_type": "stream",
     "text": [
      "/tmp/ipykernel_80/2835778669.py:138: SettingWithCopyWarning: \n",
      "A value is trying to be set on a copy of a slice from a DataFrame.\n",
      "Try using .loc[row_indexer,col_indexer] = value instead\n",
      "\n",
      "See the caveats in the documentation: https://pandas.pydata.org/pandas-docs/stable/user_guide/indexing.html#returning-a-view-versus-a-copy\n",
      "  self.df[f'bias_per_CV_{self.model_name}'] = None\n",
      "/tmp/ipykernel_80/2835778669.py:163: SettingWithCopyWarning: \n",
      "A value is trying to be set on a copy of a slice from a DataFrame.\n",
      "Try using .loc[row_indexer,col_indexer] = value instead\n",
      "\n",
      "See the caveats in the documentation: https://pandas.pydata.org/pandas-docs/stable/user_guide/indexing.html#returning-a-view-versus-a-copy\n",
      "  self.df['sim_to_ideal_feedback'] = None\n",
      "/tmp/ipykernel_80/2835778669.py:169: SettingWithCopyWarning: \n",
      "A value is trying to be set on a copy of a slice from a DataFrame.\n",
      "Try using .loc[row_indexer,col_indexer] = value instead\n",
      "\n",
      "See the caveats in the documentation: https://pandas.pydata.org/pandas-docs/stable/user_guide/indexing.html#returning-a-view-versus-a-copy\n",
      "  self.df.loc[i, f'sim_to_ideal_feedback_{self.model_name}'] = self.similarity_ideal_feedback(feedback, ideal_feedback)\n"
     ]
    }
   ],
   "source": [
    "evaluator = Evaluator(df_marital_status_uk, df_feedbacks_uk, \"intfloat/multilingual-e5-large\", \"google/gemma-2-27b-it\", lang='uk')\n",
    "df_evaluation_gemma2_27_gender = evaluator.evaluation()\n",
    "df_evaluation_gemma2_27_gender.to_csv(path_uk_explicit_reports + 'report_gemma2-27b_marital_status_baseline_uk.csv')"
   ]
  },
  {
   "cell_type": "code",
   "execution_count": null,
   "metadata": {},
   "outputs": [],
   "source": [
    "evaluator = Evaluator(df_marital_status_uk, df_feedbacks_uk, \"intfloat/multilingual-e5-large\", \"mistralai/Mistral-7B-Instruct-v0.3\", lang='uk')\n",
    "df_evaluation_mistral_7_gender = evaluator.evaluation()\n",
    "df_evaluation_mistral_7_gender.to_csv(path_uk_explicit_reports + 'report_Mistral-7B-Instruct-v0.3_marital_status_baseline_uk.csv')"
   ]
  },
  {
   "cell_type": "code",
   "execution_count": null,
   "metadata": {},
   "outputs": [],
   "source": [
    "df_marital_status_uk.to_csv(path_uk_explicit + 'marital_status_uk_baseline.csv', index=False)"
   ]
  },
  {
   "cell_type": "markdown",
   "metadata": {
    "jp-MarkdownHeadingCollapsed": true
   },
   "source": [
    "## Military status explicit uk"
   ]
  },
  {
   "cell_type": "code",
   "execution_count": null,
   "metadata": {},
   "outputs": [],
   "source": [
    "df_military_status_uk.to_csv(path_uk_explicit + 'military_status_uk_baseline.csv', index=False)"
   ]
  },
  {
   "cell_type": "code",
   "execution_count": null,
   "metadata": {},
   "outputs": [],
   "source": [
    "df_military_status_uk = pd.read_csv(path_uk_explicit + 'military_status_uk_baseline.csv')"
   ]
  },
  {
   "cell_type": "code",
   "execution_count": null,
   "metadata": {},
   "outputs": [
    {
     "name": "stderr",
     "output_type": "stream",
     "text": [
      "/tmp/ipykernel_80/2835778669.py:138: SettingWithCopyWarning: \n",
      "A value is trying to be set on a copy of a slice from a DataFrame.\n",
      "Try using .loc[row_indexer,col_indexer] = value instead\n",
      "\n",
      "See the caveats in the documentation: https://pandas.pydata.org/pandas-docs/stable/user_guide/indexing.html#returning-a-view-versus-a-copy\n",
      "  self.df[f'bias_per_CV_{self.model_name}'] = None\n",
      "/tmp/ipykernel_80/2835778669.py:163: SettingWithCopyWarning: \n",
      "A value is trying to be set on a copy of a slice from a DataFrame.\n",
      "Try using .loc[row_indexer,col_indexer] = value instead\n",
      "\n",
      "See the caveats in the documentation: https://pandas.pydata.org/pandas-docs/stable/user_guide/indexing.html#returning-a-view-versus-a-copy\n",
      "  self.df['sim_to_ideal_feedback'] = None\n",
      "/tmp/ipykernel_80/2835778669.py:169: SettingWithCopyWarning: \n",
      "A value is trying to be set on a copy of a slice from a DataFrame.\n",
      "Try using .loc[row_indexer,col_indexer] = value instead\n",
      "\n",
      "See the caveats in the documentation: https://pandas.pydata.org/pandas-docs/stable/user_guide/indexing.html#returning-a-view-versus-a-copy\n",
      "  self.df.loc[i, f'sim_to_ideal_feedback_{self.model_name}'] = self.similarity_ideal_feedback(feedback, ideal_feedback)\n"
     ]
    }
   ],
   "source": [
    "evaluator = Evaluator(df_military_status_uk, df_feedbacks_uk, \"intfloat/multilingual-e5-large\", \"google/gemma-2-9b-it\", lang='uk')\n",
    "df_evaluation_gemma2_9_military_status = evaluator.evaluation()\n",
    "df_evaluation_gemma2_9_military_status.to_csv(path_uk_explicit_reports + 'report_gemma2-9b_military_status_baseline_uk.csv')"
   ]
  },
  {
   "cell_type": "code",
   "execution_count": null,
   "metadata": {
    "scrolled": true
   },
   "outputs": [
    {
     "name": "stderr",
     "output_type": "stream",
     "text": [
      "/tmp/ipykernel_80/2835778669.py:138: SettingWithCopyWarning: \n",
      "A value is trying to be set on a copy of a slice from a DataFrame.\n",
      "Try using .loc[row_indexer,col_indexer] = value instead\n",
      "\n",
      "See the caveats in the documentation: https://pandas.pydata.org/pandas-docs/stable/user_guide/indexing.html#returning-a-view-versus-a-copy\n",
      "  self.df[f'bias_per_CV_{self.model_name}'] = None\n",
      "/tmp/ipykernel_80/2835778669.py:163: SettingWithCopyWarning: \n",
      "A value is trying to be set on a copy of a slice from a DataFrame.\n",
      "Try using .loc[row_indexer,col_indexer] = value instead\n",
      "\n",
      "See the caveats in the documentation: https://pandas.pydata.org/pandas-docs/stable/user_guide/indexing.html#returning-a-view-versus-a-copy\n",
      "  self.df['sim_to_ideal_feedback'] = None\n",
      "/tmp/ipykernel_80/2835778669.py:169: SettingWithCopyWarning: \n",
      "A value is trying to be set on a copy of a slice from a DataFrame.\n",
      "Try using .loc[row_indexer,col_indexer] = value instead\n",
      "\n",
      "See the caveats in the documentation: https://pandas.pydata.org/pandas-docs/stable/user_guide/indexing.html#returning-a-view-versus-a-copy\n",
      "  self.df.loc[i, f'sim_to_ideal_feedback_{self.model_name}'] = self.similarity_ideal_feedback(feedback, ideal_feedback)\n"
     ]
    }
   ],
   "source": [
    "evaluator = Evaluator(df_military_status_uk, df_feedbacks_uk, \"intfloat/multilingual-e5-large\", \"google/gemma-2-27b-it\", lang='uk')\n",
    "df_evaluation_gemma2_27_military_status = evaluator.evaluation()\n",
    "df_evaluation_gemma2_27_military_status.to_csv(path_uk_explicit_reports + 'report_gemma2-27b_military_status_baseline_uk.csv')"
   ]
  },
  {
   "cell_type": "code",
   "execution_count": null,
   "metadata": {},
   "outputs": [],
   "source": [
    "evaluator = Evaluator(df_military_status_uk, df_feedbacks_uk, \"intfloat/multilingual-e5-large\", \"mistralai/Mistral-7B-Instruct-v0.3\", lang='uk')\n",
    "df_evaluation_mistral_7_military_status = evaluator.evaluation()\n",
    "df_evaluation_mistral_7_military_status.to_csv(path_uk_explicit_reports + 'report_Mistral-7B-Instruct-v0.3_military_status_baseline_uk.csv')"
   ]
  },
  {
   "cell_type": "code",
   "execution_count": null,
   "metadata": {},
   "outputs": [],
   "source": [
    "df_military_status_uk.to_csv(path_uk_explicit + 'military_status_uk_baseline.csv', index=False)"
   ]
  },
  {
   "cell_type": "markdown",
   "metadata": {
    "jp-MarkdownHeadingCollapsed": true
   },
   "source": [
    "## Religion explicit uk"
   ]
  },
  {
   "cell_type": "code",
   "execution_count": null,
   "metadata": {},
   "outputs": [],
   "source": [
    "df_religion_uk.to_csv(path_uk_explicit + 'religion_uk_baseline.csv', index=False)"
   ]
  },
  {
   "cell_type": "code",
   "execution_count": 1186,
   "metadata": {},
   "outputs": [],
   "source": [
    "df_religion_uk = pd.read_csv('religion_uk_baseline.csv')"
   ]
  },
  {
   "cell_type": "code",
   "execution_count": null,
   "metadata": {},
   "outputs": [
    {
     "name": "stderr",
     "output_type": "stream",
     "text": [
      "/tmp/ipykernel_80/2835778669.py:138: SettingWithCopyWarning: \n",
      "A value is trying to be set on a copy of a slice from a DataFrame.\n",
      "Try using .loc[row_indexer,col_indexer] = value instead\n",
      "\n",
      "See the caveats in the documentation: https://pandas.pydata.org/pandas-docs/stable/user_guide/indexing.html#returning-a-view-versus-a-copy\n",
      "  self.df[f'bias_per_CV_{self.model_name}'] = None\n",
      "/tmp/ipykernel_80/2835778669.py:163: SettingWithCopyWarning: \n",
      "A value is trying to be set on a copy of a slice from a DataFrame.\n",
      "Try using .loc[row_indexer,col_indexer] = value instead\n",
      "\n",
      "See the caveats in the documentation: https://pandas.pydata.org/pandas-docs/stable/user_guide/indexing.html#returning-a-view-versus-a-copy\n",
      "  self.df['sim_to_ideal_feedback'] = None\n",
      "/tmp/ipykernel_80/2835778669.py:169: SettingWithCopyWarning: \n",
      "A value is trying to be set on a copy of a slice from a DataFrame.\n",
      "Try using .loc[row_indexer,col_indexer] = value instead\n",
      "\n",
      "See the caveats in the documentation: https://pandas.pydata.org/pandas-docs/stable/user_guide/indexing.html#returning-a-view-versus-a-copy\n",
      "  self.df.loc[i, f'sim_to_ideal_feedback_{self.model_name}'] = self.similarity_ideal_feedback(feedback, ideal_feedback)\n"
     ]
    }
   ],
   "source": [
    "evaluator = Evaluator(df_religion_uk, df_feedbacks_uk, \"intfloat/multilingual-e5-large\", \"google/gemma-2-9b-it\", lang='uk')\n",
    "df_evaluation_gemma2_9_religion = evaluator.evaluation()\n",
    "df_evaluation_gemma2_9_religion.to_csv(path_uk_explicit_reports + 'report_gemma2-9b_religion_baseline_uk.csv')"
   ]
  },
  {
   "cell_type": "code",
   "execution_count": null,
   "metadata": {
    "scrolled": true
   },
   "outputs": [
    {
     "name": "stderr",
     "output_type": "stream",
     "text": [
      "/tmp/ipykernel_80/2835778669.py:138: SettingWithCopyWarning: \n",
      "A value is trying to be set on a copy of a slice from a DataFrame.\n",
      "Try using .loc[row_indexer,col_indexer] = value instead\n",
      "\n",
      "See the caveats in the documentation: https://pandas.pydata.org/pandas-docs/stable/user_guide/indexing.html#returning-a-view-versus-a-copy\n",
      "  self.df[f'bias_per_CV_{self.model_name}'] = None\n",
      "/tmp/ipykernel_80/2835778669.py:163: SettingWithCopyWarning: \n",
      "A value is trying to be set on a copy of a slice from a DataFrame.\n",
      "Try using .loc[row_indexer,col_indexer] = value instead\n",
      "\n",
      "See the caveats in the documentation: https://pandas.pydata.org/pandas-docs/stable/user_guide/indexing.html#returning-a-view-versus-a-copy\n",
      "  self.df['sim_to_ideal_feedback'] = None\n",
      "/tmp/ipykernel_80/2835778669.py:169: SettingWithCopyWarning: \n",
      "A value is trying to be set on a copy of a slice from a DataFrame.\n",
      "Try using .loc[row_indexer,col_indexer] = value instead\n",
      "\n",
      "See the caveats in the documentation: https://pandas.pydata.org/pandas-docs/stable/user_guide/indexing.html#returning-a-view-versus-a-copy\n",
      "  self.df.loc[i, f'sim_to_ideal_feedback_{self.model_name}'] = self.similarity_ideal_feedback(feedback, ideal_feedback)\n"
     ]
    }
   ],
   "source": [
    "evaluator = Evaluator(df_religion_uk, df_feedbacks_uk, \"intfloat/multilingual-e5-large\", \"google/gemma-2-27b-it\", lang='uk')\n",
    "df_evaluation_gemma2_27_religion = evaluator.evaluation()\n",
    "df_evaluation_gemma2_27_religion.to_csv(path_uk_explicit_reports + 'report_gemma2-27b_religion_baseline_uk.csv')"
   ]
  },
  {
   "cell_type": "code",
   "execution_count": null,
   "metadata": {},
   "outputs": [],
   "source": [
    "evaluator = Evaluator(df_religion_uk, df_feedbacks_uk, \"intfloat/multilingual-e5-large\", \"mistralai/Mistral-7B-Instruct-v0.3\", lang='uk')\n",
    "df_evaluation_mistral_7_religion = evaluator.evaluation()\n",
    "df_evaluation_mistral_7_religion.to_csv(path_uk_explicit_reports + 'report_Mistral-7B-Instruct-v0.3_religion_baseline_uk.csv')"
   ]
  },
  {
   "cell_type": "code",
   "execution_count": null,
   "metadata": {},
   "outputs": [],
   "source": [
    "df_religion_uk.to_csv(path_uk_explicit + 'religion_uk_baseline.csv', index=False)"
   ]
  },
  {
   "cell_type": "markdown",
   "metadata": {
    "jp-MarkdownHeadingCollapsed": true
   },
   "source": [
    "## Gender implicit"
   ]
  },
  {
   "cell_type": "code",
   "execution_count": null,
   "metadata": {},
   "outputs": [],
   "source": [
    "df_gender.to_csv(path_en_implicit + 'gender_implicit.csv', index=False)"
   ]
  },
  {
   "cell_type": "code",
   "execution_count": null,
   "metadata": {},
   "outputs": [],
   "source": [
    "df_gender = pd.read_csv(path_en_implicit + 'gender_implicit.csv')"
   ]
  },
  {
   "cell_type": "code",
   "execution_count": null,
   "metadata": {
    "collapsed": true,
    "jupyter": {
     "outputs_hidden": true
    }
   },
   "outputs": [
    {
     "name": "stderr",
     "output_type": "stream",
     "text": [
      "/tmp/ipykernel_111567/2835778669.py:138: SettingWithCopyWarning: \n",
      "A value is trying to be set on a copy of a slice from a DataFrame.\n",
      "Try using .loc[row_indexer,col_indexer] = value instead\n",
      "\n",
      "See the caveats in the documentation: https://pandas.pydata.org/pandas-docs/stable/user_guide/indexing.html#returning-a-view-versus-a-copy\n",
      "  self.df[f'bias_per_CV_{self.model_name}'] = None\n",
      "/tmp/ipykernel_111567/2835778669.py:163: SettingWithCopyWarning: \n",
      "A value is trying to be set on a copy of a slice from a DataFrame.\n",
      "Try using .loc[row_indexer,col_indexer] = value instead\n",
      "\n",
      "See the caveats in the documentation: https://pandas.pydata.org/pandas-docs/stable/user_guide/indexing.html#returning-a-view-versus-a-copy\n",
      "  self.df['sim_to_ideal_feedback'] = None\n",
      "/tmp/ipykernel_111567/2835778669.py:169: SettingWithCopyWarning: \n",
      "A value is trying to be set on a copy of a slice from a DataFrame.\n",
      "Try using .loc[row_indexer,col_indexer] = value instead\n",
      "\n",
      "See the caveats in the documentation: https://pandas.pydata.org/pandas-docs/stable/user_guide/indexing.html#returning-a-view-versus-a-copy\n",
      "  self.df.loc[i, f'sim_to_ideal_feedback_{self.model_name}'] = self.similarity_ideal_feedback(feedback, ideal_feedback)\n"
     ]
    }
   ],
   "source": [
    "evaluator = Evaluator(df_gender, df_feedbacks, \"intfloat/multilingual-e5-large\", \"mistralai/Mistral-7B-Instruct-v0.3\", lang='en')\n",
    "df_evaluation_mistral_7_gender = evaluator.evaluation()\n",
    "df_evaluation_mistral_7_gender.to_csv(path_en_implicit_reports + 'report_Mistral-7B-Instruct-v0.3_gender_implicit.csv')"
   ]
  },
  {
   "cell_type": "code",
   "execution_count": null,
   "metadata": {
    "collapsed": true,
    "jupyter": {
     "outputs_hidden": true
    }
   },
   "outputs": [
    {
     "name": "stderr",
     "output_type": "stream",
     "text": [
      "/tmp/ipykernel_111567/2835778669.py:138: SettingWithCopyWarning: \n",
      "A value is trying to be set on a copy of a slice from a DataFrame.\n",
      "Try using .loc[row_indexer,col_indexer] = value instead\n",
      "\n",
      "See the caveats in the documentation: https://pandas.pydata.org/pandas-docs/stable/user_guide/indexing.html#returning-a-view-versus-a-copy\n",
      "  self.df[f'bias_per_CV_{self.model_name}'] = None\n",
      "/tmp/ipykernel_111567/2835778669.py:163: SettingWithCopyWarning: \n",
      "A value is trying to be set on a copy of a slice from a DataFrame.\n",
      "Try using .loc[row_indexer,col_indexer] = value instead\n",
      "\n",
      "See the caveats in the documentation: https://pandas.pydata.org/pandas-docs/stable/user_guide/indexing.html#returning-a-view-versus-a-copy\n",
      "  self.df['sim_to_ideal_feedback'] = None\n",
      "/tmp/ipykernel_111567/2835778669.py:169: SettingWithCopyWarning: \n",
      "A value is trying to be set on a copy of a slice from a DataFrame.\n",
      "Try using .loc[row_indexer,col_indexer] = value instead\n",
      "\n",
      "See the caveats in the documentation: https://pandas.pydata.org/pandas-docs/stable/user_guide/indexing.html#returning-a-view-versus-a-copy\n",
      "  self.df.loc[i, f'sim_to_ideal_feedback_{self.model_name}'] = self.similarity_ideal_feedback(feedback, ideal_feedback)\n"
     ]
    }
   ],
   "source": [
    "evaluator = Evaluator(df_gender, df_feedbacks, \"intfloat/multilingual-e5-large\", \"google/gemma-2-27b-it\", lang='en')\n",
    "df_evaluation_gemma2_27_gender = evaluator.evaluation()\n",
    "df_evaluation_gemma2_27_gender.to_csv(path_en_implicit_reports + 'report_gemma-2-27b-it_gender_implicit.csv')"
   ]
  },
  {
   "cell_type": "code",
   "execution_count": null,
   "metadata": {},
   "outputs": [
    {
     "name": "stderr",
     "output_type": "stream",
     "text": [
      "/tmp/ipykernel_111567/2835778669.py:138: SettingWithCopyWarning: \n",
      "A value is trying to be set on a copy of a slice from a DataFrame.\n",
      "Try using .loc[row_indexer,col_indexer] = value instead\n",
      "\n",
      "See the caveats in the documentation: https://pandas.pydata.org/pandas-docs/stable/user_guide/indexing.html#returning-a-view-versus-a-copy\n",
      "  self.df[f'bias_per_CV_{self.model_name}'] = None\n",
      "/tmp/ipykernel_111567/2835778669.py:163: SettingWithCopyWarning: \n",
      "A value is trying to be set on a copy of a slice from a DataFrame.\n",
      "Try using .loc[row_indexer,col_indexer] = value instead\n",
      "\n",
      "See the caveats in the documentation: https://pandas.pydata.org/pandas-docs/stable/user_guide/indexing.html#returning-a-view-versus-a-copy\n",
      "  self.df['sim_to_ideal_feedback'] = None\n",
      "/tmp/ipykernel_111567/2835778669.py:169: SettingWithCopyWarning: \n",
      "A value is trying to be set on a copy of a slice from a DataFrame.\n",
      "Try using .loc[row_indexer,col_indexer] = value instead\n",
      "\n",
      "See the caveats in the documentation: https://pandas.pydata.org/pandas-docs/stable/user_guide/indexing.html#returning-a-view-versus-a-copy\n",
      "  self.df.loc[i, f'sim_to_ideal_feedback_{self.model_name}'] = self.similarity_ideal_feedback(feedback, ideal_feedback)\n"
     ]
    }
   ],
   "source": [
    "evaluator = Evaluator(df_gender, df_feedbacks, \"intfloat/multilingual-e5-large\", \"google/gemma-2-2b-it\", lang='en')\n",
    "df_evaluation_gemma2_gender = evaluator.evaluation()\n",
    "df_evaluation_gemma2_gender.to_csv(path_en_implicit_reports + 'report_gemma2-2b_gender_implicit.csv')"
   ]
  },
  {
   "cell_type": "code",
   "execution_count": null,
   "metadata": {},
   "outputs": [],
   "source": [
    "df_gender.to_csv(path_en_implicit + 'gender_implicit.csv', index=False)"
   ]
  },
  {
   "cell_type": "markdown",
   "metadata": {
    "jp-MarkdownHeadingCollapsed": true
   },
   "source": [
    "## Marital status implicit"
   ]
  },
  {
   "cell_type": "code",
   "execution_count": null,
   "metadata": {
    "collapsed": true,
    "jupyter": {
     "outputs_hidden": true
    }
   },
   "outputs": [
    {
     "name": "stderr",
     "output_type": "stream",
     "text": [
      "/tmp/ipykernel_111567/2835778669.py:138: SettingWithCopyWarning: \n",
      "A value is trying to be set on a copy of a slice from a DataFrame.\n",
      "Try using .loc[row_indexer,col_indexer] = value instead\n",
      "\n",
      "See the caveats in the documentation: https://pandas.pydata.org/pandas-docs/stable/user_guide/indexing.html#returning-a-view-versus-a-copy\n",
      "  self.df[f'bias_per_CV_{self.model_name}'] = None\n",
      "/tmp/ipykernel_111567/2835778669.py:163: SettingWithCopyWarning: \n",
      "A value is trying to be set on a copy of a slice from a DataFrame.\n",
      "Try using .loc[row_indexer,col_indexer] = value instead\n",
      "\n",
      "See the caveats in the documentation: https://pandas.pydata.org/pandas-docs/stable/user_guide/indexing.html#returning-a-view-versus-a-copy\n",
      "  self.df['sim_to_ideal_feedback'] = None\n",
      "/tmp/ipykernel_111567/2835778669.py:169: SettingWithCopyWarning: \n",
      "A value is trying to be set on a copy of a slice from a DataFrame.\n",
      "Try using .loc[row_indexer,col_indexer] = value instead\n",
      "\n",
      "See the caveats in the documentation: https://pandas.pydata.org/pandas-docs/stable/user_guide/indexing.html#returning-a-view-versus-a-copy\n",
      "  self.df.loc[i, f'sim_to_ideal_feedback_{self.model_name}'] = self.similarity_ideal_feedback(feedback, ideal_feedback)\n"
     ]
    }
   ],
   "source": [
    "evaluator = Evaluator(df_marital_status, df_feedbacks, \"intfloat/multilingual-e5-large\", \"mistralai/Mistral-7B-Instruct-v0.3\", lang='en')\n",
    "df_evaluation_mistral_7_marital_status = evaluator.evaluation()\n",
    "df_evaluation_mistral_7_marital_status.to_csv(path_en_implicit_reports + 'report_Mistral-7B-Instruct-v0.3_marital_status_implicit.csv')"
   ]
  },
  {
   "cell_type": "code",
   "execution_count": null,
   "metadata": {},
   "outputs": [
    {
     "name": "stderr",
     "output_type": "stream",
     "text": [
      "/tmp/ipykernel_111567/2835778669.py:138: SettingWithCopyWarning: \n",
      "A value is trying to be set on a copy of a slice from a DataFrame.\n",
      "Try using .loc[row_indexer,col_indexer] = value instead\n",
      "\n",
      "See the caveats in the documentation: https://pandas.pydata.org/pandas-docs/stable/user_guide/indexing.html#returning-a-view-versus-a-copy\n",
      "  self.df[f'bias_per_CV_{self.model_name}'] = None\n",
      "/tmp/ipykernel_111567/2835778669.py:163: SettingWithCopyWarning: \n",
      "A value is trying to be set on a copy of a slice from a DataFrame.\n",
      "Try using .loc[row_indexer,col_indexer] = value instead\n",
      "\n",
      "See the caveats in the documentation: https://pandas.pydata.org/pandas-docs/stable/user_guide/indexing.html#returning-a-view-versus-a-copy\n",
      "  self.df['sim_to_ideal_feedback'] = None\n",
      "/tmp/ipykernel_111567/2835778669.py:169: SettingWithCopyWarning: \n",
      "A value is trying to be set on a copy of a slice from a DataFrame.\n",
      "Try using .loc[row_indexer,col_indexer] = value instead\n",
      "\n",
      "See the caveats in the documentation: https://pandas.pydata.org/pandas-docs/stable/user_guide/indexing.html#returning-a-view-versus-a-copy\n",
      "  self.df.loc[i, f'sim_to_ideal_feedback_{self.model_name}'] = self.similarity_ideal_feedback(feedback, ideal_feedback)\n"
     ]
    }
   ],
   "source": [
    "evaluator = Evaluator(df_marital_status, df_feedbacks, \"intfloat/multilingual-e5-large\", \"google/gemma-2-27b-it\", lang='en')\n",
    "df_evaluation_gemma27_marital_status = evaluator.evaluation()\n",
    "df_evaluation_gemma27_marital_status.to_csv(path_en_implicit_reports + 'report_gemma-2-27b-it_marital_status_implicit.csv')"
   ]
  },
  {
   "cell_type": "code",
   "execution_count": null,
   "metadata": {},
   "outputs": [
    {
     "name": "stderr",
     "output_type": "stream",
     "text": [
      "/tmp/ipykernel_111567/2835778669.py:138: SettingWithCopyWarning: \n",
      "A value is trying to be set on a copy of a slice from a DataFrame.\n",
      "Try using .loc[row_indexer,col_indexer] = value instead\n",
      "\n",
      "See the caveats in the documentation: https://pandas.pydata.org/pandas-docs/stable/user_guide/indexing.html#returning-a-view-versus-a-copy\n",
      "  self.df[f'bias_per_CV_{self.model_name}'] = None\n",
      "/tmp/ipykernel_111567/2835778669.py:163: SettingWithCopyWarning: \n",
      "A value is trying to be set on a copy of a slice from a DataFrame.\n",
      "Try using .loc[row_indexer,col_indexer] = value instead\n",
      "\n",
      "See the caveats in the documentation: https://pandas.pydata.org/pandas-docs/stable/user_guide/indexing.html#returning-a-view-versus-a-copy\n",
      "  self.df['sim_to_ideal_feedback'] = None\n",
      "/tmp/ipykernel_111567/2835778669.py:169: SettingWithCopyWarning: \n",
      "A value is trying to be set on a copy of a slice from a DataFrame.\n",
      "Try using .loc[row_indexer,col_indexer] = value instead\n",
      "\n",
      "See the caveats in the documentation: https://pandas.pydata.org/pandas-docs/stable/user_guide/indexing.html#returning-a-view-versus-a-copy\n",
      "  self.df.loc[i, f'sim_to_ideal_feedback_{self.model_name}'] = self.similarity_ideal_feedback(feedback, ideal_feedback)\n"
     ]
    }
   ],
   "source": [
    "evaluator = Evaluator(df_marital_status, df_feedbacks, \"intfloat/multilingual-e5-large\", \"google/gemma-2-2b-it\", lang='en')\n",
    "df_evaluation_gemma2_marital_status = evaluator.evaluation()\n",
    "df_evaluation_gemma2_marital_status.to_csv(path_en_implicit_reports + 'report_gemma-2-2b-it_marital_status_implicit.csv')"
   ]
  },
  {
   "cell_type": "code",
   "execution_count": null,
   "metadata": {},
   "outputs": [],
   "source": [
    "df_marital_status.to_csv(path_en_implicit + 'marital_status_implicit.csv', index=False)"
   ]
  },
  {
   "cell_type": "markdown",
   "metadata": {
    "jp-MarkdownHeadingCollapsed": true
   },
   "source": [
    "## Military status implicit"
   ]
  },
  {
   "cell_type": "code",
   "execution_count": null,
   "metadata": {
    "collapsed": true,
    "jupyter": {
     "outputs_hidden": true
    }
   },
   "outputs": [
    {
     "name": "stderr",
     "output_type": "stream",
     "text": [
      "/tmp/ipykernel_111567/2835778669.py:138: SettingWithCopyWarning: \n",
      "A value is trying to be set on a copy of a slice from a DataFrame.\n",
      "Try using .loc[row_indexer,col_indexer] = value instead\n",
      "\n",
      "See the caveats in the documentation: https://pandas.pydata.org/pandas-docs/stable/user_guide/indexing.html#returning-a-view-versus-a-copy\n",
      "  self.df[f'bias_per_CV_{self.model_name}'] = None\n",
      "/tmp/ipykernel_111567/2835778669.py:163: SettingWithCopyWarning: \n",
      "A value is trying to be set on a copy of a slice from a DataFrame.\n",
      "Try using .loc[row_indexer,col_indexer] = value instead\n",
      "\n",
      "See the caveats in the documentation: https://pandas.pydata.org/pandas-docs/stable/user_guide/indexing.html#returning-a-view-versus-a-copy\n",
      "  self.df['sim_to_ideal_feedback'] = None\n",
      "/tmp/ipykernel_111567/2835778669.py:169: SettingWithCopyWarning: \n",
      "A value is trying to be set on a copy of a slice from a DataFrame.\n",
      "Try using .loc[row_indexer,col_indexer] = value instead\n",
      "\n",
      "See the caveats in the documentation: https://pandas.pydata.org/pandas-docs/stable/user_guide/indexing.html#returning-a-view-versus-a-copy\n",
      "  self.df.loc[i, f'sim_to_ideal_feedback_{self.model_name}'] = self.similarity_ideal_feedback(feedback, ideal_feedback)\n"
     ]
    }
   ],
   "source": [
    "evaluator = Evaluator(df_military_status, df_feedbacks, \"intfloat/multilingual-e5-large\", \"mistralai/Mistral-7B-Instruct-v0.3\", lang='en')\n",
    "df_evaluation_mistral_7_military_status = evaluator.evaluation()\n",
    "df_evaluation_mistral_7_military_status.to_csv(path_en_implicit_reports + 'report_Mistral-7B-Instruct-v0.3_military_status_implicit.csv')"
   ]
  },
  {
   "cell_type": "code",
   "execution_count": null,
   "metadata": {
    "collapsed": true,
    "jupyter": {
     "outputs_hidden": true
    }
   },
   "outputs": [
    {
     "name": "stderr",
     "output_type": "stream",
     "text": [
      "/tmp/ipykernel_111567/2835778669.py:138: SettingWithCopyWarning: \n",
      "A value is trying to be set on a copy of a slice from a DataFrame.\n",
      "Try using .loc[row_indexer,col_indexer] = value instead\n",
      "\n",
      "See the caveats in the documentation: https://pandas.pydata.org/pandas-docs/stable/user_guide/indexing.html#returning-a-view-versus-a-copy\n",
      "  self.df[f'bias_per_CV_{self.model_name}'] = None\n",
      "/tmp/ipykernel_111567/2835778669.py:163: SettingWithCopyWarning: \n",
      "A value is trying to be set on a copy of a slice from a DataFrame.\n",
      "Try using .loc[row_indexer,col_indexer] = value instead\n",
      "\n",
      "See the caveats in the documentation: https://pandas.pydata.org/pandas-docs/stable/user_guide/indexing.html#returning-a-view-versus-a-copy\n",
      "  self.df['sim_to_ideal_feedback'] = None\n",
      "/tmp/ipykernel_111567/2835778669.py:169: SettingWithCopyWarning: \n",
      "A value is trying to be set on a copy of a slice from a DataFrame.\n",
      "Try using .loc[row_indexer,col_indexer] = value instead\n",
      "\n",
      "See the caveats in the documentation: https://pandas.pydata.org/pandas-docs/stable/user_guide/indexing.html#returning-a-view-versus-a-copy\n",
      "  self.df.loc[i, f'sim_to_ideal_feedback_{self.model_name}'] = self.similarity_ideal_feedback(feedback, ideal_feedback)\n"
     ]
    }
   ],
   "source": [
    "evaluator = Evaluator(df_military_status, df_feedbacks, \"intfloat/multilingual-e5-large\", \"google/gemma-2-27b-it\", lang='en')\n",
    "df_evaluation_gemma2_27b_military_status = evaluator.evaluation()\n",
    "df_evaluation_gemma2_27b_military_status.to_csv(path_en_implicit_reports + 'report_gemma-2-27b-it_military_status_implicit.csv')"
   ]
  },
  {
   "cell_type": "code",
   "execution_count": null,
   "metadata": {},
   "outputs": [
    {
     "name": "stderr",
     "output_type": "stream",
     "text": [
      "/tmp/ipykernel_85/2835778669.py:138: SettingWithCopyWarning: \n",
      "A value is trying to be set on a copy of a slice from a DataFrame.\n",
      "Try using .loc[row_indexer,col_indexer] = value instead\n",
      "\n",
      "See the caveats in the documentation: https://pandas.pydata.org/pandas-docs/stable/user_guide/indexing.html#returning-a-view-versus-a-copy\n",
      "  self.df[f'bias_per_CV_{self.model_name}'] = None\n",
      "/tmp/ipykernel_85/2835778669.py:163: SettingWithCopyWarning: \n",
      "A value is trying to be set on a copy of a slice from a DataFrame.\n",
      "Try using .loc[row_indexer,col_indexer] = value instead\n",
      "\n",
      "See the caveats in the documentation: https://pandas.pydata.org/pandas-docs/stable/user_guide/indexing.html#returning-a-view-versus-a-copy\n",
      "  self.df['sim_to_ideal_feedback'] = None\n",
      "/tmp/ipykernel_85/2835778669.py:169: SettingWithCopyWarning: \n",
      "A value is trying to be set on a copy of a slice from a DataFrame.\n",
      "Try using .loc[row_indexer,col_indexer] = value instead\n",
      "\n",
      "See the caveats in the documentation: https://pandas.pydata.org/pandas-docs/stable/user_guide/indexing.html#returning-a-view-versus-a-copy\n",
      "  self.df.loc[i, f'sim_to_ideal_feedback_{self.model_name}'] = self.similarity_ideal_feedback(feedback, ideal_feedback)\n"
     ]
    }
   ],
   "source": [
    "evaluator = Evaluator(df_military_status, df_feedbacks, \"intfloat/multilingual-e5-large\", \"google/gemma-2-2b-it\", lang='en')\n",
    "df_evaluation_gemma2_military_status = evaluator.evaluation()\n",
    "df_evaluation_gemma2_military_status.to_csv(path_en_implicit_reports + 'report_gemma2-2b_military_status_implicit.csv')"
   ]
  },
  {
   "cell_type": "code",
   "execution_count": null,
   "metadata": {},
   "outputs": [],
   "source": [
    "df_military_status.to_csv(path_en_implicit + 'military_status_implicit.csv', index=False)"
   ]
  },
  {
   "cell_type": "markdown",
   "metadata": {
    "jp-MarkdownHeadingCollapsed": true
   },
   "source": [
    "## Religion implicit"
   ]
  },
  {
   "cell_type": "code",
   "execution_count": null,
   "metadata": {
    "collapsed": true,
    "jupyter": {
     "outputs_hidden": true
    }
   },
   "outputs": [
    {
     "name": "stderr",
     "output_type": "stream",
     "text": [
      "/tmp/ipykernel_111567/2835778669.py:138: SettingWithCopyWarning: \n",
      "A value is trying to be set on a copy of a slice from a DataFrame.\n",
      "Try using .loc[row_indexer,col_indexer] = value instead\n",
      "\n",
      "See the caveats in the documentation: https://pandas.pydata.org/pandas-docs/stable/user_guide/indexing.html#returning-a-view-versus-a-copy\n",
      "  self.df[f'bias_per_CV_{self.model_name}'] = None\n",
      "/tmp/ipykernel_111567/2835778669.py:163: SettingWithCopyWarning: \n",
      "A value is trying to be set on a copy of a slice from a DataFrame.\n",
      "Try using .loc[row_indexer,col_indexer] = value instead\n",
      "\n",
      "See the caveats in the documentation: https://pandas.pydata.org/pandas-docs/stable/user_guide/indexing.html#returning-a-view-versus-a-copy\n",
      "  self.df['sim_to_ideal_feedback'] = None\n",
      "/tmp/ipykernel_111567/2835778669.py:169: SettingWithCopyWarning: \n",
      "A value is trying to be set on a copy of a slice from a DataFrame.\n",
      "Try using .loc[row_indexer,col_indexer] = value instead\n",
      "\n",
      "See the caveats in the documentation: https://pandas.pydata.org/pandas-docs/stable/user_guide/indexing.html#returning-a-view-versus-a-copy\n",
      "  self.df.loc[i, f'sim_to_ideal_feedback_{self.model_name}'] = self.similarity_ideal_feedback(feedback, ideal_feedback)\n"
     ]
    }
   ],
   "source": [
    "evaluator = Evaluator(df_religion, df_feedbacks, \"intfloat/multilingual-e5-large\", \"mistralai/Mistral-7B-Instruct-v0.3\", lang='en')\n",
    "df_evaluation_mistral_7_religion = evaluator.evaluation()\n",
    "df_evaluation_mistral_7_religion.to_csv(path_en_implicit_reports + 'report_Mistral-7B-Instruct-v0.3_religion_implicit.csv')"
   ]
  },
  {
   "cell_type": "code",
   "execution_count": null,
   "metadata": {
    "collapsed": true,
    "jupyter": {
     "outputs_hidden": true
    },
    "scrolled": true
   },
   "outputs": [
    {
     "name": "stderr",
     "output_type": "stream",
     "text": [
      "/tmp/ipykernel_111567/2835778669.py:138: SettingWithCopyWarning: \n",
      "A value is trying to be set on a copy of a slice from a DataFrame.\n",
      "Try using .loc[row_indexer,col_indexer] = value instead\n",
      "\n",
      "See the caveats in the documentation: https://pandas.pydata.org/pandas-docs/stable/user_guide/indexing.html#returning-a-view-versus-a-copy\n",
      "  self.df[f'bias_per_CV_{self.model_name}'] = None\n",
      "/tmp/ipykernel_111567/2835778669.py:163: SettingWithCopyWarning: \n",
      "A value is trying to be set on a copy of a slice from a DataFrame.\n",
      "Try using .loc[row_indexer,col_indexer] = value instead\n",
      "\n",
      "See the caveats in the documentation: https://pandas.pydata.org/pandas-docs/stable/user_guide/indexing.html#returning-a-view-versus-a-copy\n",
      "  self.df['sim_to_ideal_feedback'] = None\n",
      "/tmp/ipykernel_111567/2835778669.py:169: SettingWithCopyWarning: \n",
      "A value is trying to be set on a copy of a slice from a DataFrame.\n",
      "Try using .loc[row_indexer,col_indexer] = value instead\n",
      "\n",
      "See the caveats in the documentation: https://pandas.pydata.org/pandas-docs/stable/user_guide/indexing.html#returning-a-view-versus-a-copy\n",
      "  self.df.loc[i, f'sim_to_ideal_feedback_{self.model_name}'] = self.similarity_ideal_feedback(feedback, ideal_feedback)\n"
     ]
    }
   ],
   "source": [
    "evaluator = Evaluator(df_religion, df_feedbacks, \"intfloat/multilingual-e5-large\", \"google/gemma-2-27b-it\", lang='en')\n",
    "df_evaluation_gemma27_religion = evaluator.evaluation()\n",
    "df_evaluation_gemma27_religion.to_csv(path_en_implicit_reports + 'report_gemma2-27b_religion_implicit.csv')"
   ]
  },
  {
   "cell_type": "code",
   "execution_count": null,
   "metadata": {},
   "outputs": [
    {
     "name": "stderr",
     "output_type": "stream",
     "text": [
      "/tmp/ipykernel_85/2835778669.py:138: SettingWithCopyWarning: \n",
      "A value is trying to be set on a copy of a slice from a DataFrame.\n",
      "Try using .loc[row_indexer,col_indexer] = value instead\n",
      "\n",
      "See the caveats in the documentation: https://pandas.pydata.org/pandas-docs/stable/user_guide/indexing.html#returning-a-view-versus-a-copy\n",
      "  self.df[f'bias_per_CV_{self.model_name}'] = None\n",
      "/tmp/ipykernel_85/2835778669.py:163: SettingWithCopyWarning: \n",
      "A value is trying to be set on a copy of a slice from a DataFrame.\n",
      "Try using .loc[row_indexer,col_indexer] = value instead\n",
      "\n",
      "See the caveats in the documentation: https://pandas.pydata.org/pandas-docs/stable/user_guide/indexing.html#returning-a-view-versus-a-copy\n",
      "  self.df['sim_to_ideal_feedback'] = None\n",
      "/tmp/ipykernel_85/2835778669.py:169: SettingWithCopyWarning: \n",
      "A value is trying to be set on a copy of a slice from a DataFrame.\n",
      "Try using .loc[row_indexer,col_indexer] = value instead\n",
      "\n",
      "See the caveats in the documentation: https://pandas.pydata.org/pandas-docs/stable/user_guide/indexing.html#returning-a-view-versus-a-copy\n",
      "  self.df.loc[i, f'sim_to_ideal_feedback_{self.model_name}'] = self.similarity_ideal_feedback(feedback, ideal_feedback)\n"
     ]
    }
   ],
   "source": [
    "evaluator = Evaluator(df_religion, df_feedbacks, \"intfloat/multilingual-e5-large\", \"google/gemma-2-2b-it\", lang='en')\n",
    "df_evaluation_gemma2_religion = evaluator.evaluation()\n",
    "df_evaluation_gemma2_religion.to_csv(path_en_implicit_reports + 'report_gemma2-2b_religion_implicit.csv')"
   ]
  },
  {
   "cell_type": "code",
   "execution_count": null,
   "metadata": {},
   "outputs": [],
   "source": [
    "df_religion.to_csv(path_en_implicit + 'religion_implicit.csv', index=False)"
   ]
  },
  {
   "cell_type": "markdown",
   "metadata": {
    "jp-MarkdownHeadingCollapsed": true
   },
   "source": [
    "## Gender implicit uk"
   ]
  },
  {
   "cell_type": "code",
   "execution_count": null,
   "metadata": {},
   "outputs": [
    {
     "name": "stderr",
     "output_type": "stream",
     "text": [
      "/tmp/ipykernel_85/2835778669.py:138: SettingWithCopyWarning: \n",
      "A value is trying to be set on a copy of a slice from a DataFrame.\n",
      "Try using .loc[row_indexer,col_indexer] = value instead\n",
      "\n",
      "See the caveats in the documentation: https://pandas.pydata.org/pandas-docs/stable/user_guide/indexing.html#returning-a-view-versus-a-copy\n",
      "  self.df[f'bias_per_CV_{self.model_name}'] = None\n",
      "/tmp/ipykernel_85/2835778669.py:163: SettingWithCopyWarning: \n",
      "A value is trying to be set on a copy of a slice from a DataFrame.\n",
      "Try using .loc[row_indexer,col_indexer] = value instead\n",
      "\n",
      "See the caveats in the documentation: https://pandas.pydata.org/pandas-docs/stable/user_guide/indexing.html#returning-a-view-versus-a-copy\n",
      "  self.df['sim_to_ideal_feedback'] = None\n",
      "/tmp/ipykernel_85/2835778669.py:169: SettingWithCopyWarning: \n",
      "A value is trying to be set on a copy of a slice from a DataFrame.\n",
      "Try using .loc[row_indexer,col_indexer] = value instead\n",
      "\n",
      "See the caveats in the documentation: https://pandas.pydata.org/pandas-docs/stable/user_guide/indexing.html#returning-a-view-versus-a-copy\n",
      "  self.df.loc[i, f'sim_to_ideal_feedback_{self.model_name}'] = self.similarity_ideal_feedback(feedback, ideal_feedback)\n"
     ]
    }
   ],
   "source": [
    "evaluator = Evaluator(df_gender_uk, df_feedbacks_uk, \"intfloat/multilingual-e5-large\", \"mistralai/Mistral-7B-Instruct-v0.3\", lang='uk')\n",
    "df_evaluation_mistral_7_gender = evaluator.evaluation()\n",
    "df_evaluation_mistral_7_gender.to_csv(path_uk_implicit_reports + 'report_Mistral-7B-Instruct-v0.3_gender_implicit_uk.csv')"
   ]
  },
  {
   "cell_type": "code",
   "execution_count": null,
   "metadata": {},
   "outputs": [
    {
     "name": "stderr",
     "output_type": "stream",
     "text": [
      "/tmp/ipykernel_85/2835778669.py:138: SettingWithCopyWarning: \n",
      "A value is trying to be set on a copy of a slice from a DataFrame.\n",
      "Try using .loc[row_indexer,col_indexer] = value instead\n",
      "\n",
      "See the caveats in the documentation: https://pandas.pydata.org/pandas-docs/stable/user_guide/indexing.html#returning-a-view-versus-a-copy\n",
      "  self.df[f'bias_per_CV_{self.model_name}'] = None\n",
      "/tmp/ipykernel_85/2835778669.py:163: SettingWithCopyWarning: \n",
      "A value is trying to be set on a copy of a slice from a DataFrame.\n",
      "Try using .loc[row_indexer,col_indexer] = value instead\n",
      "\n",
      "See the caveats in the documentation: https://pandas.pydata.org/pandas-docs/stable/user_guide/indexing.html#returning-a-view-versus-a-copy\n",
      "  self.df['sim_to_ideal_feedback'] = None\n",
      "/tmp/ipykernel_85/2835778669.py:169: SettingWithCopyWarning: \n",
      "A value is trying to be set on a copy of a slice from a DataFrame.\n",
      "Try using .loc[row_indexer,col_indexer] = value instead\n",
      "\n",
      "See the caveats in the documentation: https://pandas.pydata.org/pandas-docs/stable/user_guide/indexing.html#returning-a-view-versus-a-copy\n",
      "  self.df.loc[i, f'sim_to_ideal_feedback_{self.model_name}'] = self.similarity_ideal_feedback(feedback, ideal_feedback)\n"
     ]
    }
   ],
   "source": [
    "evaluator = Evaluator(df_gender_uk, df_feedbacks_uk, \"intfloat/multilingual-e5-large\", \"google/gemma-2-9b-it\", lang='uk')\n",
    "df_evaluation_gemma2_9_gender = evaluator.evaluation()\n",
    "df_evaluation_gemma2_9_gender.to_csv(path_uk_implicit_reports + 'report_gemma2-9b_gender_implicit_uk.csv')"
   ]
  },
  {
   "cell_type": "code",
   "execution_count": null,
   "metadata": {},
   "outputs": [],
   "source": [
    "df_gender_uk.to_csv(path_uk_implicit + 'gender_implicit_uk.csv', index=False)"
   ]
  },
  {
   "cell_type": "markdown",
   "metadata": {
    "jp-MarkdownHeadingCollapsed": true
   },
   "source": [
    "## Marital status implicit uk"
   ]
  },
  {
   "cell_type": "code",
   "execution_count": null,
   "metadata": {
    "collapsed": true,
    "jupyter": {
     "outputs_hidden": true
    }
   },
   "outputs": [
    {
     "name": "stderr",
     "output_type": "stream",
     "text": [
      "/tmp/ipykernel_85/2835778669.py:138: SettingWithCopyWarning: \n",
      "A value is trying to be set on a copy of a slice from a DataFrame.\n",
      "Try using .loc[row_indexer,col_indexer] = value instead\n",
      "\n",
      "See the caveats in the documentation: https://pandas.pydata.org/pandas-docs/stable/user_guide/indexing.html#returning-a-view-versus-a-copy\n",
      "  self.df[f'bias_per_CV_{self.model_name}'] = None\n",
      "/tmp/ipykernel_85/2835778669.py:163: SettingWithCopyWarning: \n",
      "A value is trying to be set on a copy of a slice from a DataFrame.\n",
      "Try using .loc[row_indexer,col_indexer] = value instead\n",
      "\n",
      "See the caveats in the documentation: https://pandas.pydata.org/pandas-docs/stable/user_guide/indexing.html#returning-a-view-versus-a-copy\n",
      "  self.df['sim_to_ideal_feedback'] = None\n",
      "/tmp/ipykernel_85/2835778669.py:169: SettingWithCopyWarning: \n",
      "A value is trying to be set on a copy of a slice from a DataFrame.\n",
      "Try using .loc[row_indexer,col_indexer] = value instead\n",
      "\n",
      "See the caveats in the documentation: https://pandas.pydata.org/pandas-docs/stable/user_guide/indexing.html#returning-a-view-versus-a-copy\n",
      "  self.df.loc[i, f'sim_to_ideal_feedback_{self.model_name}'] = self.similarity_ideal_feedback(feedback, ideal_feedback)\n"
     ]
    }
   ],
   "source": [
    "evaluator = Evaluator(df_marital_status_uk, df_feedbacks_uk, \"intfloat/multilingual-e5-large\", \"google/gemma-2-9b-it\", lang='uk')\n",
    "df_evaluation_gemma2_9_gender = evaluator.evaluation()\n",
    "df_evaluation_gemma2_9_gender.to_csv(path_uk_implicit_reports + 'report_gemma2-9b_marital_status_implicit_uk.csv')"
   ]
  },
  {
   "cell_type": "code",
   "execution_count": null,
   "metadata": {},
   "outputs": [
    {
     "name": "stderr",
     "output_type": "stream",
     "text": [
      "/tmp/ipykernel_85/2835778669.py:138: SettingWithCopyWarning: \n",
      "A value is trying to be set on a copy of a slice from a DataFrame.\n",
      "Try using .loc[row_indexer,col_indexer] = value instead\n",
      "\n",
      "See the caveats in the documentation: https://pandas.pydata.org/pandas-docs/stable/user_guide/indexing.html#returning-a-view-versus-a-copy\n",
      "  self.df[f'bias_per_CV_{self.model_name}'] = None\n",
      "/tmp/ipykernel_85/2835778669.py:163: SettingWithCopyWarning: \n",
      "A value is trying to be set on a copy of a slice from a DataFrame.\n",
      "Try using .loc[row_indexer,col_indexer] = value instead\n",
      "\n",
      "See the caveats in the documentation: https://pandas.pydata.org/pandas-docs/stable/user_guide/indexing.html#returning-a-view-versus-a-copy\n",
      "  self.df['sim_to_ideal_feedback'] = None\n",
      "/tmp/ipykernel_85/2835778669.py:169: SettingWithCopyWarning: \n",
      "A value is trying to be set on a copy of a slice from a DataFrame.\n",
      "Try using .loc[row_indexer,col_indexer] = value instead\n",
      "\n",
      "See the caveats in the documentation: https://pandas.pydata.org/pandas-docs/stable/user_guide/indexing.html#returning-a-view-versus-a-copy\n",
      "  self.df.loc[i, f'sim_to_ideal_feedback_{self.model_name}'] = self.similarity_ideal_feedback(feedback, ideal_feedback)\n"
     ]
    }
   ],
   "source": [
    "evaluator = Evaluator(df_marital_status_uk, df_feedbacks_uk, \"intfloat/multilingual-e5-large\", \"mistralai/Mistral-7B-Instruct-v0.3\", lang='uk')\n",
    "df_evaluation_mistral_7_gender = evaluator.evaluation()\n",
    "df_evaluation_mistral_7_gender.to_csv(path_uk_implicit_reports + 'report_Mistral-7B-Instruct-v0.3_marital_status_implicit_uk.csv')"
   ]
  },
  {
   "cell_type": "code",
   "execution_count": null,
   "metadata": {},
   "outputs": [],
   "source": [
    "df_marital_status_uk.to_csv(path_uk_implicit + 'marital_status_implicit_uk.csv', index=False)"
   ]
  },
  {
   "cell_type": "markdown",
   "metadata": {
    "jp-MarkdownHeadingCollapsed": true
   },
   "source": [
    "## Military status implicit uk"
   ]
  },
  {
   "cell_type": "code",
   "execution_count": null,
   "metadata": {},
   "outputs": [
    {
     "name": "stderr",
     "output_type": "stream",
     "text": [
      "/tmp/ipykernel_85/2835778669.py:138: SettingWithCopyWarning: \n",
      "A value is trying to be set on a copy of a slice from a DataFrame.\n",
      "Try using .loc[row_indexer,col_indexer] = value instead\n",
      "\n",
      "See the caveats in the documentation: https://pandas.pydata.org/pandas-docs/stable/user_guide/indexing.html#returning-a-view-versus-a-copy\n",
      "  self.df[f'bias_per_CV_{self.model_name}'] = None\n",
      "/tmp/ipykernel_85/2835778669.py:163: SettingWithCopyWarning: \n",
      "A value is trying to be set on a copy of a slice from a DataFrame.\n",
      "Try using .loc[row_indexer,col_indexer] = value instead\n",
      "\n",
      "See the caveats in the documentation: https://pandas.pydata.org/pandas-docs/stable/user_guide/indexing.html#returning-a-view-versus-a-copy\n",
      "  self.df['sim_to_ideal_feedback'] = None\n",
      "/tmp/ipykernel_85/2835778669.py:169: SettingWithCopyWarning: \n",
      "A value is trying to be set on a copy of a slice from a DataFrame.\n",
      "Try using .loc[row_indexer,col_indexer] = value instead\n",
      "\n",
      "See the caveats in the documentation: https://pandas.pydata.org/pandas-docs/stable/user_guide/indexing.html#returning-a-view-versus-a-copy\n",
      "  self.df.loc[i, f'sim_to_ideal_feedback_{self.model_name}'] = self.similarity_ideal_feedback(feedback, ideal_feedback)\n"
     ]
    }
   ],
   "source": [
    "evaluator = Evaluator(df_military_status_uk, df_feedbacks_uk, \"intfloat/multilingual-e5-large\", \"mistralai/Mistral-7B-Instruct-v0.3\", lang='uk')\n",
    "df_evaluation_mistral_7_military_status = evaluator.evaluation()\n",
    "df_evaluation_mistral_7_military_status.to_csv(path_uk_implicit_reports + 'report_Mistral-7B-Instruct-v0.3_military_status_implicit_uk.csv')"
   ]
  },
  {
   "cell_type": "code",
   "execution_count": null,
   "metadata": {},
   "outputs": [
    {
     "name": "stderr",
     "output_type": "stream",
     "text": [
      "/tmp/ipykernel_85/2835778669.py:138: SettingWithCopyWarning: \n",
      "A value is trying to be set on a copy of a slice from a DataFrame.\n",
      "Try using .loc[row_indexer,col_indexer] = value instead\n",
      "\n",
      "See the caveats in the documentation: https://pandas.pydata.org/pandas-docs/stable/user_guide/indexing.html#returning-a-view-versus-a-copy\n",
      "  self.df[f'bias_per_CV_{self.model_name}'] = None\n",
      "/tmp/ipykernel_85/2835778669.py:163: SettingWithCopyWarning: \n",
      "A value is trying to be set on a copy of a slice from a DataFrame.\n",
      "Try using .loc[row_indexer,col_indexer] = value instead\n",
      "\n",
      "See the caveats in the documentation: https://pandas.pydata.org/pandas-docs/stable/user_guide/indexing.html#returning-a-view-versus-a-copy\n",
      "  self.df['sim_to_ideal_feedback'] = None\n",
      "/tmp/ipykernel_85/2835778669.py:169: SettingWithCopyWarning: \n",
      "A value is trying to be set on a copy of a slice from a DataFrame.\n",
      "Try using .loc[row_indexer,col_indexer] = value instead\n",
      "\n",
      "See the caveats in the documentation: https://pandas.pydata.org/pandas-docs/stable/user_guide/indexing.html#returning-a-view-versus-a-copy\n",
      "  self.df.loc[i, f'sim_to_ideal_feedback_{self.model_name}'] = self.similarity_ideal_feedback(feedback, ideal_feedback)\n"
     ]
    }
   ],
   "source": [
    "evaluator = Evaluator(df_military_status_uk, df_feedbacks_uk, \"intfloat/multilingual-e5-large\", \"google/gemma-2-9b-it\", lang='uk')\n",
    "df_evaluation_gemma2_9_military_status = evaluator.evaluation()\n",
    "df_evaluation_gemma2_9_military_status.to_csv(path_uk_implicit_reports + 'report_gemma2-9b_military_status_implicit_uk.csv')"
   ]
  },
  {
   "cell_type": "code",
   "execution_count": null,
   "metadata": {},
   "outputs": [],
   "source": [
    "df_military_status_uk.to_csv(path_uk_implicit + 'military_status_implicit_uk.csv', index=False)"
   ]
  },
  {
   "cell_type": "markdown",
   "metadata": {},
   "source": [
    "## Religion implicit uk"
   ]
  },
  {
   "cell_type": "code",
   "execution_count": null,
   "metadata": {},
   "outputs": [
    {
     "name": "stderr",
     "output_type": "stream",
     "text": [
      "/tmp/ipykernel_85/2835778669.py:138: SettingWithCopyWarning: \n",
      "A value is trying to be set on a copy of a slice from a DataFrame.\n",
      "Try using .loc[row_indexer,col_indexer] = value instead\n",
      "\n",
      "See the caveats in the documentation: https://pandas.pydata.org/pandas-docs/stable/user_guide/indexing.html#returning-a-view-versus-a-copy\n",
      "  self.df[f'bias_per_CV_{self.model_name}'] = None\n",
      "/tmp/ipykernel_85/2835778669.py:163: SettingWithCopyWarning: \n",
      "A value is trying to be set on a copy of a slice from a DataFrame.\n",
      "Try using .loc[row_indexer,col_indexer] = value instead\n",
      "\n",
      "See the caveats in the documentation: https://pandas.pydata.org/pandas-docs/stable/user_guide/indexing.html#returning-a-view-versus-a-copy\n",
      "  self.df['sim_to_ideal_feedback'] = None\n",
      "/tmp/ipykernel_85/2835778669.py:169: SettingWithCopyWarning: \n",
      "A value is trying to be set on a copy of a slice from a DataFrame.\n",
      "Try using .loc[row_indexer,col_indexer] = value instead\n",
      "\n",
      "See the caveats in the documentation: https://pandas.pydata.org/pandas-docs/stable/user_guide/indexing.html#returning-a-view-versus-a-copy\n",
      "  self.df.loc[i, f'sim_to_ideal_feedback_{self.model_name}'] = self.similarity_ideal_feedback(feedback, ideal_feedback)\n"
     ]
    }
   ],
   "source": [
    "evaluator = Evaluator(df_religion_uk, df_feedbacks_uk, \"intfloat/multilingual-e5-large\", \"google/gemma-2-9b-it\", lang='uk')\n",
    "df_evaluation_gemma2_9_religion = evaluator.evaluation()\n",
    "df_evaluation_gemma2_9_religion.to_csv(path_uk_implicit_reports + 'report_gemma2-9b_religion_implicit_uk.csv')"
   ]
  },
  {
   "cell_type": "code",
   "execution_count": null,
   "metadata": {},
   "outputs": [
    {
     "name": "stderr",
     "output_type": "stream",
     "text": [
      "/tmp/ipykernel_85/2835778669.py:138: SettingWithCopyWarning: \n",
      "A value is trying to be set on a copy of a slice from a DataFrame.\n",
      "Try using .loc[row_indexer,col_indexer] = value instead\n",
      "\n",
      "See the caveats in the documentation: https://pandas.pydata.org/pandas-docs/stable/user_guide/indexing.html#returning-a-view-versus-a-copy\n",
      "  self.df[f'bias_per_CV_{self.model_name}'] = None\n",
      "/tmp/ipykernel_85/2835778669.py:163: SettingWithCopyWarning: \n",
      "A value is trying to be set on a copy of a slice from a DataFrame.\n",
      "Try using .loc[row_indexer,col_indexer] = value instead\n",
      "\n",
      "See the caveats in the documentation: https://pandas.pydata.org/pandas-docs/stable/user_guide/indexing.html#returning-a-view-versus-a-copy\n",
      "  self.df['sim_to_ideal_feedback'] = None\n",
      "/tmp/ipykernel_85/2835778669.py:169: SettingWithCopyWarning: \n",
      "A value is trying to be set on a copy of a slice from a DataFrame.\n",
      "Try using .loc[row_indexer,col_indexer] = value instead\n",
      "\n",
      "See the caveats in the documentation: https://pandas.pydata.org/pandas-docs/stable/user_guide/indexing.html#returning-a-view-versus-a-copy\n",
      "  self.df.loc[i, f'sim_to_ideal_feedback_{self.model_name}'] = self.similarity_ideal_feedback(feedback, ideal_feedback)\n"
     ]
    }
   ],
   "source": [
    "evaluator = Evaluator(df_religion_uk, df_feedbacks_uk, \"intfloat/multilingual-e5-large\", \"mistralai/Mistral-7B-Instruct-v0.3\", lang='uk')\n",
    "df_evaluation_mistral_7_religion = evaluator.evaluation()\n",
    "df_evaluation_mistral_7_religion.to_csv(path_uk_implicit_reports + 'report_Mistral-7B-Instruct-v0.3_religion_implicit_uk.csv')"
   ]
  },
  {
   "cell_type": "code",
   "execution_count": null,
   "metadata": {},
   "outputs": [],
   "source": [
    "df_religion_uk.to_csv(path_uk_implicit + 'religion_implicit_uk.csv')"
   ]
  },
  {
   "cell_type": "markdown",
   "metadata": {},
   "source": [
    "## Gender implicit optimized hyperparameters"
   ]
  },
  {
   "cell_type": "code",
   "execution_count": 1807,
   "metadata": {},
   "outputs": [],
   "source": [
    "evaluator = Evaluator(df_gender_optimized, df_feedbacks, \"intfloat/multilingual-e5-large\", \"mistralai/Mistral-7B-Instruct-v0.3\", lang='en')\n",
    "df_evaluation_mistral_7_gender = evaluator.evaluation()\n",
    "df_evaluation_mistral_7_gender.to_csv('report_Mistral-7B-Instruct-v0.3_gender_implicit_optimized.csv')"
   ]
  },
  {
   "cell_type": "markdown",
   "metadata": {
    "jp-MarkdownHeadingCollapsed": true
   },
   "source": [
    "## Marital status implicit optimized hyperparameters"
   ]
  },
  {
   "cell_type": "code",
   "execution_count": 1820,
   "metadata": {},
   "outputs": [],
   "source": [
    "evaluator = Evaluator(df_marital_status_optimized, df_feedbacks, \"intfloat/multilingual-e5-large\", \"mistralai/Mistral-7B-Instruct-v0.3\", lang='en')\n",
    "df_evaluation_mistral_7_marital_status = evaluator.evaluation()\n",
    "df_evaluation_mistral_7_marital_status.to_csv('report_Mistral-7B-Instruct-v0.3_marital_status_implicit_optimized.csv')"
   ]
  },
  {
   "cell_type": "markdown",
   "metadata": {
    "jp-MarkdownHeadingCollapsed": true
   },
   "source": [
    "## Military status implicit optimized hyperparameters"
   ]
  },
  {
   "cell_type": "code",
   "execution_count": 1830,
   "metadata": {},
   "outputs": [],
   "source": [
    "evaluator = Evaluator(df_military_status_optimized, df_feedbacks, \"intfloat/multilingual-e5-large\", \"mistralai/Mistral-7B-Instruct-v0.3\", lang='en')\n",
    "df_evaluation_mistral_7_military_status = evaluator.evaluation()\n",
    "df_evaluation_mistral_7_military_status.to_csv('report_Mistral-7B-Instruct-v0.3_military_status_implicit_optimized.csv')"
   ]
  },
  {
   "cell_type": "markdown",
   "metadata": {
    "jp-MarkdownHeadingCollapsed": true
   },
   "source": [
    "## Religion implicit optimized hyperparameters"
   ]
  },
  {
   "cell_type": "code",
   "execution_count": 25,
   "metadata": {},
   "outputs": [],
   "source": [
    "evaluator = Evaluator(df_religion_optimized, df_feedbacks, \"intfloat/multilingual-e5-large\", \"mistralai/Mistral-7B-Instruct-v0.3\", lang='en')\n",
    "df_evaluation_mistral_7_religion = evaluator.evaluation()\n",
    "df_evaluation_mistral_7_religion.to_csv('report_Mistral-7B-Instruct-v0.3_religion_implicit_optimized.csv')"
   ]
  },
  {
   "cell_type": "code",
   "execution_count": 26,
   "metadata": {},
   "outputs": [],
   "source": [
    "df_religion_optimized.to_csv('religion_implicit_optimized.csv', index=False)"
   ]
  },
  {
   "cell_type": "markdown",
   "metadata": {},
   "source": [
    "## Data Analysis"
   ]
  },
  {
   "cell_type": "code",
   "execution_count": 29,
   "metadata": {},
   "outputs": [
    {
     "name": "stdout",
     "output_type": "stream",
     "text": [
      "mistralai/Mistral-7B-Instruct-v0.3 0.0\n",
      "google/gemma-2-2b-it 0.7308888888888889\n"
     ]
    }
   ],
   "source": [
    "for i in df_gender.columns:\n",
    "    if 'decision' in i:\n",
    "        print(i[9:], len(df_gender[i][df_gender[i] == 'invalid output']) / len(df_gender))"
   ]
  },
  {
   "cell_type": "code",
   "execution_count": 30,
   "metadata": {},
   "outputs": [
    {
     "name": "stdout",
     "output_type": "stream",
     "text": [
      "mistralai/Mistral-7B-Instruct-v0.3 0.0\n",
      "google/gemma-2-2b-it 0.7906666666666666\n"
     ]
    }
   ],
   "source": [
    "for i in df_marital_status.columns:\n",
    "    if 'decision' in i:\n",
    "        print(i[9:], len(df_marital_status[i][df_marital_status[i] == 'invalid output']) / len(df_marital_status))"
   ]
  },
  {
   "cell_type": "code",
   "execution_count": 31,
   "metadata": {},
   "outputs": [
    {
     "name": "stdout",
     "output_type": "stream",
     "text": [
      "mistralai/Mistral-7B-Instruct-v0.3 0.0\n",
      "google/gemma-2-2b-it 0.7088888888888889\n"
     ]
    }
   ],
   "source": [
    "for i in df_military_status.columns:\n",
    "    if 'decision' in i:\n",
    "        print(i[9:], len(df_military_status[i][df_military_status[i] == 'invalid output']) / len(df_military_status))"
   ]
  },
  {
   "cell_type": "code",
   "execution_count": 32,
   "metadata": {},
   "outputs": [
    {
     "name": "stdout",
     "output_type": "stream",
     "text": [
      "google/gemma-2-2b-it 0.0\n"
     ]
    }
   ],
   "source": [
    "for i in df_religion.columns:\n",
    "    if 'decision' in i:\n",
    "        print(i[9:], len(df_religion[i][df_religion[i] == 'invalid output']) / len(df_religion))"
   ]
  },
  {
   "cell_type": "code",
   "execution_count": null,
   "metadata": {},
   "outputs": [],
   "source": []
  }
 ],
 "metadata": {
  "accelerator": "GPU",
  "colab": {
   "gpuType": "T4",
   "provenance": []
  },
  "kernelspec": {
   "display_name": "Python 3",
   "language": "python",
   "name": "python3"
  },
  "language_info": {
   "codemirror_mode": {
    "name": "ipython",
    "version": 3
   },
   "file_extension": ".py",
   "mimetype": "text/x-python",
   "name": "python",
   "nbconvert_exporter": "python",
   "pygments_lexer": "ipython3",
   "version": "3.11.9"
  },
  "widgets": {
   "application/vnd.jupyter.widget-state+json": {
    "09253ed6f4cd40d18f0c4ab64e1a73b0": {
     "model_module": "@jupyter-widgets/controls",
     "model_module_version": "1.5.0",
     "model_name": "VBoxModel",
     "state": {
      "_dom_classes": [],
      "_model_module": "@jupyter-widgets/controls",
      "_model_module_version": "1.5.0",
      "_model_name": "VBoxModel",
      "_view_count": null,
      "_view_module": "@jupyter-widgets/controls",
      "_view_module_version": "1.5.0",
      "_view_name": "VBoxView",
      "box_style": "",
      "children": [],
      "layout": "IPY_MODEL_17975505f8a84f18b97eadf7654618c8"
     }
    },
    "09798f12cfb04515b85e90eb608c78e7": {
     "model_module": "@jupyter-widgets/controls",
     "model_module_version": "1.5.0",
     "model_name": "DescriptionStyleModel",
     "state": {
      "_model_module": "@jupyter-widgets/controls",
      "_model_module_version": "1.5.0",
      "_model_name": "DescriptionStyleModel",
      "_view_count": null,
      "_view_module": "@jupyter-widgets/base",
      "_view_module_version": "1.2.0",
      "_view_name": "StyleView",
      "description_width": ""
     }
    },
    "0a77f1649e4143f2990e1865abb4d05a": {
     "model_module": "@jupyter-widgets/controls",
     "model_module_version": "1.5.0",
     "model_name": "LabelModel",
     "state": {
      "_dom_classes": [],
      "_model_module": "@jupyter-widgets/controls",
      "_model_module_version": "1.5.0",
      "_model_name": "LabelModel",
      "_view_count": null,
      "_view_module": "@jupyter-widgets/controls",
      "_view_module_version": "1.5.0",
      "_view_name": "LabelView",
      "description": "",
      "description_tooltip": null,
      "layout": "IPY_MODEL_c9f548a5f26c494588e5855937d03081",
      "placeholder": "​",
      "style": "IPY_MODEL_09798f12cfb04515b85e90eb608c78e7",
      "value": "Connecting..."
     }
    },
    "0a91b8032d514ec9b41a41ed1f6e0976": {
     "model_module": "@jupyter-widgets/base",
     "model_module_version": "1.2.0",
     "model_name": "LayoutModel",
     "state": {
      "_model_module": "@jupyter-widgets/base",
      "_model_module_version": "1.2.0",
      "_model_name": "LayoutModel",
      "_view_count": null,
      "_view_module": "@jupyter-widgets/base",
      "_view_module_version": "1.2.0",
      "_view_name": "LayoutView",
      "align_content": null,
      "align_items": null,
      "align_self": null,
      "border": null,
      "bottom": null,
      "display": null,
      "flex": null,
      "flex_flow": null,
      "grid_area": null,
      "grid_auto_columns": null,
      "grid_auto_flow": null,
      "grid_auto_rows": null,
      "grid_column": null,
      "grid_gap": null,
      "grid_row": null,
      "grid_template_areas": null,
      "grid_template_columns": null,
      "grid_template_rows": null,
      "height": null,
      "justify_content": null,
      "justify_items": null,
      "left": null,
      "margin": null,
      "max_height": null,
      "max_width": null,
      "min_height": null,
      "min_width": null,
      "object_fit": null,
      "object_position": null,
      "order": null,
      "overflow": null,
      "overflow_x": null,
      "overflow_y": null,
      "padding": null,
      "right": null,
      "top": null,
      "visibility": null,
      "width": null
     }
    },
    "0ebc24d84f2545fc98c55bc515e0f4b3": {
     "model_module": "@jupyter-widgets/base",
     "model_module_version": "1.2.0",
     "model_name": "LayoutModel",
     "state": {
      "_model_module": "@jupyter-widgets/base",
      "_model_module_version": "1.2.0",
      "_model_name": "LayoutModel",
      "_view_count": null,
      "_view_module": "@jupyter-widgets/base",
      "_view_module_version": "1.2.0",
      "_view_name": "LayoutView",
      "align_content": null,
      "align_items": null,
      "align_self": null,
      "border": null,
      "bottom": null,
      "display": null,
      "flex": null,
      "flex_flow": null,
      "grid_area": null,
      "grid_auto_columns": null,
      "grid_auto_flow": null,
      "grid_auto_rows": null,
      "grid_column": null,
      "grid_gap": null,
      "grid_row": null,
      "grid_template_areas": null,
      "grid_template_columns": null,
      "grid_template_rows": null,
      "height": null,
      "justify_content": null,
      "justify_items": null,
      "left": null,
      "margin": null,
      "max_height": null,
      "max_width": null,
      "min_height": null,
      "min_width": null,
      "object_fit": null,
      "object_position": null,
      "order": null,
      "overflow": null,
      "overflow_x": null,
      "overflow_y": null,
      "padding": null,
      "right": null,
      "top": null,
      "visibility": null,
      "width": null
     }
    },
    "17975505f8a84f18b97eadf7654618c8": {
     "model_module": "@jupyter-widgets/base",
     "model_module_version": "1.2.0",
     "model_name": "LayoutModel",
     "state": {
      "_model_module": "@jupyter-widgets/base",
      "_model_module_version": "1.2.0",
      "_model_name": "LayoutModel",
      "_view_count": null,
      "_view_module": "@jupyter-widgets/base",
      "_view_module_version": "1.2.0",
      "_view_name": "LayoutView",
      "align_content": null,
      "align_items": "center",
      "align_self": null,
      "border": null,
      "bottom": null,
      "display": "flex",
      "flex": null,
      "flex_flow": "column",
      "grid_area": null,
      "grid_auto_columns": null,
      "grid_auto_flow": null,
      "grid_auto_rows": null,
      "grid_column": null,
      "grid_gap": null,
      "grid_row": null,
      "grid_template_areas": null,
      "grid_template_columns": null,
      "grid_template_rows": null,
      "height": null,
      "justify_content": null,
      "justify_items": null,
      "left": null,
      "margin": null,
      "max_height": null,
      "max_width": null,
      "min_height": null,
      "min_width": null,
      "object_fit": null,
      "object_position": null,
      "order": null,
      "overflow": null,
      "overflow_x": null,
      "overflow_y": null,
      "padding": null,
      "right": null,
      "top": null,
      "visibility": null,
      "width": "50%"
     }
    },
    "319f4ec501e6421abf138f4788266b16": {
     "model_module": "@jupyter-widgets/base",
     "model_module_version": "1.2.0",
     "model_name": "LayoutModel",
     "state": {
      "_model_module": "@jupyter-widgets/base",
      "_model_module_version": "1.2.0",
      "_model_name": "LayoutModel",
      "_view_count": null,
      "_view_module": "@jupyter-widgets/base",
      "_view_module_version": "1.2.0",
      "_view_name": "LayoutView",
      "align_content": null,
      "align_items": null,
      "align_self": null,
      "border": null,
      "bottom": null,
      "display": null,
      "flex": null,
      "flex_flow": null,
      "grid_area": null,
      "grid_auto_columns": null,
      "grid_auto_flow": null,
      "grid_auto_rows": null,
      "grid_column": null,
      "grid_gap": null,
      "grid_row": null,
      "grid_template_areas": null,
      "grid_template_columns": null,
      "grid_template_rows": null,
      "height": null,
      "justify_content": null,
      "justify_items": null,
      "left": null,
      "margin": null,
      "max_height": null,
      "max_width": null,
      "min_height": null,
      "min_width": null,
      "object_fit": null,
      "object_position": null,
      "order": null,
      "overflow": null,
      "overflow_x": null,
      "overflow_y": null,
      "padding": null,
      "right": null,
      "top": null,
      "visibility": null,
      "width": null
     }
    },
    "345792ebbee84d948473d82f8a7beb78": {
     "model_module": "@jupyter-widgets/controls",
     "model_module_version": "1.5.0",
     "model_name": "HTMLModel",
     "state": {
      "_dom_classes": [],
      "_model_module": "@jupyter-widgets/controls",
      "_model_module_version": "1.5.0",
      "_model_name": "HTMLModel",
      "_view_count": null,
      "_view_module": "@jupyter-widgets/controls",
      "_view_module_version": "1.5.0",
      "_view_name": "HTMLView",
      "description": "",
      "description_tooltip": null,
      "layout": "IPY_MODEL_7820fc19cf2443dfb5906f37bd0089de",
      "placeholder": "​",
      "style": "IPY_MODEL_6994a97ffe4f4f76acb6e8800e25cb75",
      "value": "\n<b>Pro Tip:</b> If you don't already have one, you can create a dedicated\n'notebooks' token with 'write' access, that you can then easily reuse for all\nnotebooks. </center>"
     }
    },
    "405a2ed7e8f949f2a82f4aac44bd61fc": {
     "model_module": "@jupyter-widgets/controls",
     "model_module_version": "1.5.0",
     "model_name": "DescriptionStyleModel",
     "state": {
      "_model_module": "@jupyter-widgets/controls",
      "_model_module_version": "1.5.0",
      "_model_name": "DescriptionStyleModel",
      "_view_count": null,
      "_view_module": "@jupyter-widgets/base",
      "_view_module_version": "1.2.0",
      "_view_name": "StyleView",
      "description_width": ""
     }
    },
    "56644e0aef80457d95e46eaf813fd5cf": {
     "model_module": "@jupyter-widgets/controls",
     "model_module_version": "1.5.0",
     "model_name": "CheckboxModel",
     "state": {
      "_dom_classes": [],
      "_model_module": "@jupyter-widgets/controls",
      "_model_module_version": "1.5.0",
      "_model_name": "CheckboxModel",
      "_view_count": null,
      "_view_module": "@jupyter-widgets/controls",
      "_view_module_version": "1.5.0",
      "_view_name": "CheckboxView",
      "description": "Add token as git credential?",
      "description_tooltip": null,
      "disabled": false,
      "indent": true,
      "layout": "IPY_MODEL_d2c50acff6e04da695415908d40a5d56",
      "style": "IPY_MODEL_6ad049552d364448a1efed8d6fc5157a",
      "value": true
     }
    },
    "6994a97ffe4f4f76acb6e8800e25cb75": {
     "model_module": "@jupyter-widgets/controls",
     "model_module_version": "1.5.0",
     "model_name": "DescriptionStyleModel",
     "state": {
      "_model_module": "@jupyter-widgets/controls",
      "_model_module_version": "1.5.0",
      "_model_name": "DescriptionStyleModel",
      "_view_count": null,
      "_view_module": "@jupyter-widgets/base",
      "_view_module_version": "1.2.0",
      "_view_name": "StyleView",
      "description_width": ""
     }
    },
    "6ad049552d364448a1efed8d6fc5157a": {
     "model_module": "@jupyter-widgets/controls",
     "model_module_version": "1.5.0",
     "model_name": "DescriptionStyleModel",
     "state": {
      "_model_module": "@jupyter-widgets/controls",
      "_model_module_version": "1.5.0",
      "_model_name": "DescriptionStyleModel",
      "_view_count": null,
      "_view_module": "@jupyter-widgets/base",
      "_view_module_version": "1.2.0",
      "_view_name": "StyleView",
      "description_width": ""
     }
    },
    "7820fc19cf2443dfb5906f37bd0089de": {
     "model_module": "@jupyter-widgets/base",
     "model_module_version": "1.2.0",
     "model_name": "LayoutModel",
     "state": {
      "_model_module": "@jupyter-widgets/base",
      "_model_module_version": "1.2.0",
      "_model_name": "LayoutModel",
      "_view_count": null,
      "_view_module": "@jupyter-widgets/base",
      "_view_module_version": "1.2.0",
      "_view_name": "LayoutView",
      "align_content": null,
      "align_items": null,
      "align_self": null,
      "border": null,
      "bottom": null,
      "display": null,
      "flex": null,
      "flex_flow": null,
      "grid_area": null,
      "grid_auto_columns": null,
      "grid_auto_flow": null,
      "grid_auto_rows": null,
      "grid_column": null,
      "grid_gap": null,
      "grid_row": null,
      "grid_template_areas": null,
      "grid_template_columns": null,
      "grid_template_rows": null,
      "height": null,
      "justify_content": null,
      "justify_items": null,
      "left": null,
      "margin": null,
      "max_height": null,
      "max_width": null,
      "min_height": null,
      "min_width": null,
      "object_fit": null,
      "object_position": null,
      "order": null,
      "overflow": null,
      "overflow_x": null,
      "overflow_y": null,
      "padding": null,
      "right": null,
      "top": null,
      "visibility": null,
      "width": null
     }
    },
    "926bcf1910404c589fa73c06d1a68dd8": {
     "model_module": "@jupyter-widgets/controls",
     "model_module_version": "1.5.0",
     "model_name": "DescriptionStyleModel",
     "state": {
      "_model_module": "@jupyter-widgets/controls",
      "_model_module_version": "1.5.0",
      "_model_name": "DescriptionStyleModel",
      "_view_count": null,
      "_view_module": "@jupyter-widgets/base",
      "_view_module_version": "1.2.0",
      "_view_name": "StyleView",
      "description_width": ""
     }
    },
    "a52ff187cd784c6e89db88972ec352ca": {
     "model_module": "@jupyter-widgets/controls",
     "model_module_version": "1.5.0",
     "model_name": "PasswordModel",
     "state": {
      "_dom_classes": [],
      "_model_module": "@jupyter-widgets/controls",
      "_model_module_version": "1.5.0",
      "_model_name": "PasswordModel",
      "_view_count": null,
      "_view_module": "@jupyter-widgets/controls",
      "_view_module_version": "1.5.0",
      "_view_name": "PasswordView",
      "continuous_update": true,
      "description": "Token:",
      "description_tooltip": null,
      "disabled": false,
      "layout": "IPY_MODEL_0ebc24d84f2545fc98c55bc515e0f4b3",
      "placeholder": "​",
      "style": "IPY_MODEL_405a2ed7e8f949f2a82f4aac44bd61fc",
      "value": ""
     }
    },
    "a5c127f8ce28441185a44a84cfc4cb2e": {
     "model_module": "@jupyter-widgets/controls",
     "model_module_version": "1.5.0",
     "model_name": "ButtonStyleModel",
     "state": {
      "_model_module": "@jupyter-widgets/controls",
      "_model_module_version": "1.5.0",
      "_model_name": "ButtonStyleModel",
      "_view_count": null,
      "_view_module": "@jupyter-widgets/base",
      "_view_module_version": "1.2.0",
      "_view_name": "StyleView",
      "button_color": null,
      "font_weight": ""
     }
    },
    "c9f548a5f26c494588e5855937d03081": {
     "model_module": "@jupyter-widgets/base",
     "model_module_version": "1.2.0",
     "model_name": "LayoutModel",
     "state": {
      "_model_module": "@jupyter-widgets/base",
      "_model_module_version": "1.2.0",
      "_model_name": "LayoutModel",
      "_view_count": null,
      "_view_module": "@jupyter-widgets/base",
      "_view_module_version": "1.2.0",
      "_view_name": "LayoutView",
      "align_content": null,
      "align_items": null,
      "align_self": null,
      "border": null,
      "bottom": null,
      "display": null,
      "flex": null,
      "flex_flow": null,
      "grid_area": null,
      "grid_auto_columns": null,
      "grid_auto_flow": null,
      "grid_auto_rows": null,
      "grid_column": null,
      "grid_gap": null,
      "grid_row": null,
      "grid_template_areas": null,
      "grid_template_columns": null,
      "grid_template_rows": null,
      "height": null,
      "justify_content": null,
      "justify_items": null,
      "left": null,
      "margin": null,
      "max_height": null,
      "max_width": null,
      "min_height": null,
      "min_width": null,
      "object_fit": null,
      "object_position": null,
      "order": null,
      "overflow": null,
      "overflow_x": null,
      "overflow_y": null,
      "padding": null,
      "right": null,
      "top": null,
      "visibility": null,
      "width": null
     }
    },
    "d2c50acff6e04da695415908d40a5d56": {
     "model_module": "@jupyter-widgets/base",
     "model_module_version": "1.2.0",
     "model_name": "LayoutModel",
     "state": {
      "_model_module": "@jupyter-widgets/base",
      "_model_module_version": "1.2.0",
      "_model_name": "LayoutModel",
      "_view_count": null,
      "_view_module": "@jupyter-widgets/base",
      "_view_module_version": "1.2.0",
      "_view_name": "LayoutView",
      "align_content": null,
      "align_items": null,
      "align_self": null,
      "border": null,
      "bottom": null,
      "display": null,
      "flex": null,
      "flex_flow": null,
      "grid_area": null,
      "grid_auto_columns": null,
      "grid_auto_flow": null,
      "grid_auto_rows": null,
      "grid_column": null,
      "grid_gap": null,
      "grid_row": null,
      "grid_template_areas": null,
      "grid_template_columns": null,
      "grid_template_rows": null,
      "height": null,
      "justify_content": null,
      "justify_items": null,
      "left": null,
      "margin": null,
      "max_height": null,
      "max_width": null,
      "min_height": null,
      "min_width": null,
      "object_fit": null,
      "object_position": null,
      "order": null,
      "overflow": null,
      "overflow_x": null,
      "overflow_y": null,
      "padding": null,
      "right": null,
      "top": null,
      "visibility": null,
      "width": null
     }
    },
    "d81a9dcc1f9f4ae1b249d0194656ecd5": {
     "model_module": "@jupyter-widgets/controls",
     "model_module_version": "1.5.0",
     "model_name": "ButtonModel",
     "state": {
      "_dom_classes": [],
      "_model_module": "@jupyter-widgets/controls",
      "_model_module_version": "1.5.0",
      "_model_name": "ButtonModel",
      "_view_count": null,
      "_view_module": "@jupyter-widgets/controls",
      "_view_module_version": "1.5.0",
      "_view_name": "ButtonView",
      "button_style": "",
      "description": "Login",
      "disabled": false,
      "icon": "",
      "layout": "IPY_MODEL_319f4ec501e6421abf138f4788266b16",
      "style": "IPY_MODEL_a5c127f8ce28441185a44a84cfc4cb2e",
      "tooltip": ""
     }
    },
    "e9c7a35be8de4ed3b675cda3d4891dac": {
     "model_module": "@jupyter-widgets/controls",
     "model_module_version": "1.5.0",
     "model_name": "HTMLModel",
     "state": {
      "_dom_classes": [],
      "_model_module": "@jupyter-widgets/controls",
      "_model_module_version": "1.5.0",
      "_model_name": "HTMLModel",
      "_view_count": null,
      "_view_module": "@jupyter-widgets/controls",
      "_view_module_version": "1.5.0",
      "_view_name": "HTMLView",
      "description": "",
      "description_tooltip": null,
      "layout": "IPY_MODEL_0a91b8032d514ec9b41a41ed1f6e0976",
      "placeholder": "​",
      "style": "IPY_MODEL_926bcf1910404c589fa73c06d1a68dd8",
      "value": "<center> <img\nsrc=https://huggingface.co/front/assets/huggingface_logo-noborder.svg\nalt='Hugging Face'> <br> Copy a token from <a\nhref=\"https://huggingface.co/settings/tokens\" target=\"_blank\">your Hugging Face\ntokens page</a> and paste it below. <br> Immediately click login after copying\nyour token or it might be stored in plain text in this notebook file. </center>"
     }
    }
   }
  }
 },
 "nbformat": 4,
 "nbformat_minor": 4
}
